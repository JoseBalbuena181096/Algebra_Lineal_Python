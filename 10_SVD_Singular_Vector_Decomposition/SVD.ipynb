{
 "cells": [
  {
   "cell_type": "code",
   "execution_count": 2,
   "id": "f86d865d",
   "metadata": {},
   "outputs": [
    {
     "data": {
      "text/plain": [
       "array([[1, 2, 3],\n",
       "       [2, 3, 4],\n",
       "       [4, 5, 6],\n",
       "       [6, 7, 8]])"
      ]
     },
     "execution_count": 2,
     "metadata": {},
     "output_type": "execute_result"
    }
   ],
   "source": [
    "## Singular Values Decomposition\n",
    "\n",
    "import numpy as np\n",
    "\n",
    "A = np.array([[1, 2, 3], [2, 3, 4], [4, 5, 6], [6, 7, 8]])\n",
    "A"
   ]
  },
  {
   "cell_type": "code",
   "execution_count": 3,
   "id": "427e4f65",
   "metadata": {},
   "outputs": [
    {
     "name": "stdout",
     "output_type": "stream",
     "text": [
      "[[-0.22274652  0.73729528  0.57511721  0.27571699]\n",
      " [-0.32727663  0.49882082 -0.79952884  0.06943652]\n",
      " [-0.53633685  0.02187191  0.16126466 -0.82816551]\n",
      " [-0.74539707 -0.455077    0.06314697  0.483012  ]]\n",
      "[1.63608531e+01 1.14999430e+00 3.36020246e-16]\n",
      "[[-0.4581075  -0.57006726 -0.68202701]\n",
      " [-0.7896017  -0.09141475  0.60677219]\n",
      " [ 0.40824829 -0.81649658  0.40824829]]\n"
     ]
    }
   ],
   "source": [
    "U, s, Vt = np.linalg.svd(A)\n",
    "print(U)\n",
    "print(s)\n",
    "print(Vt)"
   ]
  },
  {
   "cell_type": "code",
   "execution_count": 4,
   "id": "a2d6e49f",
   "metadata": {},
   "outputs": [
    {
     "data": {
      "text/plain": [
       "array([[0., 0., 0.],\n",
       "       [0., 0., 0.],\n",
       "       [0., 0., 0.],\n",
       "       [0., 0., 0.]])"
      ]
     },
     "execution_count": 4,
     "metadata": {},
     "output_type": "execute_result"
    }
   ],
   "source": [
    "S = np.zeros(np.shape(A))\n",
    "S\n"
   ]
  },
  {
   "cell_type": "code",
   "execution_count": 5,
   "id": "804b1a49",
   "metadata": {},
   "outputs": [
    {
     "data": {
      "text/plain": [
       "array([[1.63608531e+01, 0.00000000e+00, 0.00000000e+00],\n",
       "       [0.00000000e+00, 1.14999430e+00, 0.00000000e+00],\n",
       "       [0.00000000e+00, 0.00000000e+00, 3.36020246e-16],\n",
       "       [0.00000000e+00, 0.00000000e+00, 0.00000000e+00]])"
      ]
     },
     "execution_count": 5,
     "metadata": {},
     "output_type": "execute_result"
    }
   ],
   "source": [
    "np.fill_diagonal(S, s)\n",
    "S\n"
   ]
  },
  {
   "cell_type": "markdown",
   "id": "d19a0407",
   "metadata": {},
   "source": [
    "### La suma de los valores singulares, es la cantidad total de la varianza de una matriz.\n",
    "\n",
    "Los valores singulares, asi nada mas vienen en la escala de la matriz, asi que no podemos comporarlos con los valores singulares de otras matrices (otros datasets).\n",
    "\n",
    "Por lo que es mejor convertir los valores singuales al total de la varianza aplicando la normalizacion.\n",
    "\n",
    "Cada valor singular se divide por la suma de todos los valores singulares, y se multiplica por 100. \n",
    "$$\n",
    "\n",
    "\\sigma_i = \\frac{\\sigma_i}{\\sum_{j=1}^n \\sigma_j} \\times 100\n",
    "\n",
    "$$\n",
    "\n",
    "### SVD\n",
    "Va a descompiner una matriz en 3 matrices llamadas los vectors singulares izquierdos, los valores singulares y los vectors singulares derechos.\n",
    "\n",
    "SVD se puede obtener de la eigendescomposicion de A por A transpuesta.\n",
    "\n",
    "Los primeros r vectores singulares izquierdos, te dan una base ortonormal para el espacio de columnas matricial, mientras que los vectores singulares posteriores te dan una base ortonormal para espacio nulo izquierdo.\n",
    "\n",
    "Lo mismo para los vectores singulares derechos, que te dan una base ortonormal para el espacio de filas matricial, mientras que los vectores singulares posteriores te dan una base ortonormal para espacio nulo derecho.\n",
    "\n",
    "El numero de valores singulares no cero, te va a dar el rango de la matriz.\n",
    "\n",
    "\n",
    "\n",
    "\n"
   ]
  }
 ],
 "metadata": {
  "kernelspec": {
   "display_name": "algebra_lineal",
   "language": "python",
   "name": "python3"
  },
  "language_info": {
   "codemirror_mode": {
    "name": "ipython",
    "version": 3
   },
   "file_extension": ".py",
   "mimetype": "text/x-python",
   "name": "python",
   "nbconvert_exporter": "python",
   "pygments_lexer": "ipython3",
   "version": "3.11.13"
  }
 },
 "nbformat": 4,
 "nbformat_minor": 5
}
