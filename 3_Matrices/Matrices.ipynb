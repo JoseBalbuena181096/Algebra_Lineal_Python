{
 "cells": [
  {
   "cell_type": "markdown",
   "id": "66f23749",
   "metadata": {},
   "source": [
    "### Matrices\n",
    "Una matriz es una estructura matemática que organiza números, símbolos o expresiones en filas y columnas rectangulares. Es básicamente una tabla ordenada de elementos.\n",
    "Características principales:\n",
    "Una matriz se representa entre paréntesis o corchetes, y cada elemento tiene una posición específica determinada por su fila y columna. Por ejemplo:\n",
    "\n",
    "\n",
    "\n",
    "A = [2  1  3]\n",
    "\n",
    "    [4  0  5]\n",
    "\n",
    "    [1  2  7]\n",
    "\n",
    "Esta es una matriz de 3×3 (3 filas por 3 columnas).\n",
    "Elementos clave:\n",
    "\n",
    "Dimensión: Se expresa como m×n, donde m es el número de filas y n el número de columnas\n",
    "Elementos: Cada número en la matriz se llama elemento y se denota como aᵢⱼ (elemento en la fila i, columna j)\n",
    "Tipos especiales: Existen matrices cuadradas (mismo número de filas y columnas), matrices identidad, matrices nulas, etc.\n",
    "\n",
    "Usos principales:\n",
    "Las matrices son fundamentales en álgebra lineal y tienen aplicaciones prácticas en:\n",
    "\n",
    "Resolución de sistemas de ecuaciones lineales\n",
    "Transformaciones geométricas\n",
    "Programación y ciencias de la computación\n",
    "Estadística y análisis de datos\n",
    "Física e ingeniería\n",
    "Gráficos por computadora\n",
    "\n",
    "Las matrices permiten realizar operaciones como suma, multiplicación y encontrar determinantes, lo que las\n",
    "convierte en herramientas poderosas para resolver problemas matemáticos complejos de manera organizada.\n",
    "\n",
    "### Tipos de matrices\n",
    "![Tipos de matrices](image.png)\n",
    "\n",
    "Una matriz es una tabla bidimensional de números, símbolos o expresiones organizados en filas y columnas. Pero en un contexto geometrico es una transformacion lineanl. Porlo que una matriz solo es una tranformacion linea.\n",
    "\n",
    "Una transformacion es la forma elegante de llamar a una funcion.\n",
    "\n",
    "Transformacion => Funcion f(x)\n",
    "\n",
    "![Transformacion lineal](image2.png)\n",
    "\n",
    "En algebra lineal una transformacion es una funcion toma un vector de entrada y devuelve otro vector de salida.\n",
    "![Transformacion lineal](image3.png)\n",
    "\n",
    "Se le llama transformacion, porque es mas facil ver como el vector de entrada X, transforma su posicion en el vector de salida Y, por medio de multiplicarse por la matriz A.\n",
    "![Transformacion lineal](image4.png)\n",
    "\n",
    "Pero realmente lo que se hace es tomar todos los vectores de ese espacio es decir el espacio vectorial y transformar el espacio en un nuevo espacio vectorial. Por ejemplo aplastar y transformar el espacio.\n",
    "![Transformacion del espacio por una transformacion](image5.png)\n",
    "\n",
    "El algebra lineal solo se limita a transformaciones lineales.\n",
    "![Transformacion lineal](image6.png)\n",
    "\n",
    "Para que una transformacion se considere lineal:\n",
    "1.  Lineal significa que todas las lineas se conservan como lineas paralelas y equidistantes unas de otras.\n",
    "2.  El punto (0,0) se transforma en (0,0) y cualquier otro punto se transforma de manera proporcional. Es decir el origen se mantiene fijo.\n",
    "![Transformacion lineal punto fijo](image7.png)\n",
    "![Transformacion lineal equidistante](image8.png)\n",
    "\n",
    "#### Como se pueden describir estas transformaciones de forma numerica?\n",
    "\n",
    "Tengo un vector de entrada [x1, x2, x3] => ????? => [y1, y2, y3]\n",
    "\n",
    "Ejemplo considerar el vector v = (-1) i + (2) j\n",
    "![Transformacion lineal vector v](image9.png)\n",
    "\n",
    "Si aplicamos una transformacion y seguimos donde van a caer estos vectores \n",
    "![Transformacion lineal](image10.png)\n",
    "![Transformacion lineal](image11.png)\n",
    "![Transformacion lineal](image12.png)\n",
    "![Transformacion lineal](image13.png)\n",
    "![Transformacion lineal](image14.png)\n",
    "\n",
    "La transformacion lineal de dos dimensiones esta descrita completamente por cuatro numeros,  las coordenadas donde aterriza i y las coordenadas donde aterriza j.\n",
    "![Transformacion lineal](image15.png)\n",
    "![Transformacion lineal](image16.png)\n",
    "Esto corresponde a sumar versiones escaladas de nuestros nuevos vectores base\n",
    "![Transformacion lineal](image17.png)\n",
    "\n",
    "Podemos generalizar esto con ayuda del algebra lineal, matriz 2x2, empaca la informacion de la transformacion lineal en una matriz, la primer columna donde aterriza el primer vector base, la segunda columna donde aterriza el segundo vector base. Esto se conoce como el producto de vector por matriz.\n",
    "![Transformacion lineal](image18.png)\n",
    "\n",
    "Rotacion del espacio 90 grados\n",
    "![Transformacion lineal](image19.png)\n",
    "\n",
    "Si la transformacion lineal aplasta el espacio en una linea, quiere decir que los vectores de la transformacion erean linealmente dependiente.\n",
    "![Transformacion lineal](image20.png)\n",
    "\n",
    "En las matrices las columnas represntan las coordenadas, donde los vectores base van a caer, el producto vector por matriz en si representa la forma en que se computa lo que esa transformacion le ha echo al vector dado.\n",
    "\n",
    "Temas base del Algebra linea:\n",
    "\n",
    "1.  Vectores\n",
    "2.  Combinaciones lineales\n",
    "3.  Matrices como transformaciones lineales\n",
    "4.  Multiplicacion de matriz\n",
    "5.  Determinante \n",
    "6.  Matriz inverza\n",
    "7. Producto punto y producto cruz\n",
    "8.  Cambio de base\n",
    "9.  Autovectores o vectores propios\n",
    "10. Espacios vectoriales\n",
    "\n",
    "\n",
    "### Las matrices\n",
    "\n",
    "Se van a denotar con letras mayusculas y en negritas.\n",
    "\n",
    "matriz **A** o matriz **M**\n",
    "\n",
    "Las matrices se miden por la cantidad de filas y columas que tienen.\n",
    "\n",
    "![Matriz](image21.png)\n",
    "\n",
    "Esta matriz se llama A es de 3x5 es decir 3 filas y 5 columnas.\n",
    "![Matriz](image22.png)\n",
    "\n",
    "Que pasa sinos queremos referir a un elemento en especifico, primero te vas a referir a la fila y luego a la columna. El elemento 8 se encuentra en la fila 3 columna 4.\n",
    "![Matriz](image23.png)\n",
    "\n",
    "Esta notacion aplica solo en matematicas.\n",
    "\n"
   ]
  },
  {
   "cell_type": "code",
   "execution_count": 1,
   "id": "29259617",
   "metadata": {},
   "outputs": [],
   "source": [
    "import numpy as np"
   ]
  },
  {
   "cell_type": "code",
   "execution_count": 2,
   "id": "f8160310",
   "metadata": {},
   "outputs": [
    {
     "data": {
      "text/plain": [
       "array([[1, 3, 5, 7, 9],\n",
       "       [0, 2, 4, 6, 8],\n",
       "       [1, 4, 7, 8, 9]])"
      ]
     },
     "execution_count": 2,
     "metadata": {},
     "output_type": "execute_result"
    }
   ],
   "source": [
    "Matriz = np.array([[1,3,5,7,9], [0,2,4,6,8], [1,4,7,8,9]])\n",
    "Matriz"
   ]
  },
  {
   "cell_type": "markdown",
   "id": "60927807",
   "metadata": {},
   "source": [
    "Para seleccionar el 8 como lo habiamos visto en matematicas seria el elemento de la fila 3 columna 4.\n",
    "![Matriz](image24.png)"
   ]
  },
  {
   "cell_type": "code",
   "execution_count": 3,
   "id": "a2f28a89",
   "metadata": {},
   "outputs": [
    {
     "data": {
      "text/plain": [
       "np.int64(8)"
      ]
     },
     "execution_count": 3,
     "metadata": {},
     "output_type": "execute_result"
    }
   ],
   "source": [
    "# En python el indice inicial es 0, por lo que la primer fila es 0 y la primer columna es 0.\n",
    "# Pero en python no se cuenta con la notacion de fila y columna, sino que se cuenta con la notacion de indice.\n",
    "# Por lo que para seleccionar el 8 como lo habiamos visto en matematicas seria el elemento de la fila 3 columna 4.\n",
    "# En python seria la fila 2 columna 3.\n",
    "Matriz[2,3]\n"
   ]
  },
  {
   "cell_type": "code",
   "execution_count": 4,
   "id": "697dd000",
   "metadata": {},
   "outputs": [
    {
     "name": "stdout",
     "output_type": "stream",
     "text": [
      "[-4 -3 -2 -1  0  1  2  3  4]\n"
     ]
    }
   ],
   "source": [
    "# -4, -3, -2, -1, 0, 1, 2, 3, 4\n",
    "A = np.arange(-4,5)\n",
    "print(A)"
   ]
  },
  {
   "cell_type": "code",
   "execution_count": 5,
   "id": "3066e177",
   "metadata": {},
   "outputs": [
    {
     "name": "stdout",
     "output_type": "stream",
     "text": [
      "[ 0  1  2  3  4  5  6  7  8  9 10 11 12 13 14 15 16 17 18 19 20 21 22 23\n",
      " 24 25 26 27 28 29 30 31 32 33 34 35 36 37 38 39 40 41 42 43 44 45 46 47\n",
      " 48 49 50 51 52 53 54 55 56 57 58 59]\n"
     ]
    }
   ],
   "source": [
    "A = np.arange(60)\n",
    "print(A)"
   ]
  },
  {
   "cell_type": "code",
   "execution_count": 7,
   "id": "af7a0ce5",
   "metadata": {},
   "outputs": [
    {
     "name": "stdout",
     "output_type": "stream",
     "text": [
      "[[ 0  1  2  3  4  5  6  7  8  9]\n",
      " [10 11 12 13 14 15 16 17 18 19]\n",
      " [20 21 22 23 24 25 26 27 28 29]\n",
      " [30 31 32 33 34 35 36 37 38 39]\n",
      " [40 41 42 43 44 45 46 47 48 49]\n",
      " [50 51 52 53 54 55 56 57 58 59]]\n"
     ]
    }
   ],
   "source": [
    "A = np.arange(60).reshape(6,10) # creamos una matriz de 6 filas 10 columnas\n",
    "print(A)\n"
   ]
  },
  {
   "cell_type": "code",
   "execution_count": 8,
   "id": "65001790",
   "metadata": {},
   "outputs": [
    {
     "data": {
      "text/plain": [
       "np.int64(23)"
      ]
     },
     "execution_count": 8,
     "metadata": {},
     "output_type": "execute_result"
    }
   ],
   "source": [
    "A[2,3] # elemento de la 3 fila cuarta columna"
   ]
  },
  {
   "cell_type": "code",
   "execution_count": 9,
   "id": "47223c19",
   "metadata": {},
   "outputs": [
    {
     "data": {
      "text/plain": [
       "array([[10, 11, 12, 13, 14],\n",
       "       [20, 21, 22, 23, 24],\n",
       "       [30, 31, 32, 33, 34]])"
      ]
     },
     "execution_count": 9,
     "metadata": {},
     "output_type": "execute_result"
    }
   ],
   "source": [
    "# seleccionar una sub matriz, el ultimo numero no es incluido, es decir seleccionamos la fila \n",
    "# 1 a la fila 3 porque la 4  no esta incluida, de uno en uno, y de la columna 0 a la 5 pero\n",
    "# la columna 5 no incluida\n",
    "A[1:4:1, 0:5]"
   ]
  },
  {
   "cell_type": "markdown",
   "id": "4e575e36",
   "metadata": {},
   "source": [
    "### Tipos de matrices \n",
    "\n",
    "Matrices aleatorias\n",
    "Matrices que hacemos con numeros random"
   ]
  },
  {
   "cell_type": "code",
   "execution_count": 11,
   "id": "41a9f14f",
   "metadata": {},
   "outputs": [
    {
     "data": {
      "text/plain": [
       "array([[0.27384223, 0.33446803],\n",
       "       [0.84292016, 0.25656738],\n",
       "       [0.72788278, 0.03402687]])"
      ]
     },
     "execution_count": 11,
     "metadata": {},
     "output_type": "execute_result"
    }
   ],
   "source": [
    "## Creamos una matriz aleatoria de 5 x 7\n",
    "\n",
    "A = np.random.rand(3,2)\n",
    "A"
   ]
  },
  {
   "cell_type": "markdown",
   "id": "6f4e0374",
   "metadata": {},
   "source": [
    "## Matrices cuadradas vs rectangulares\n",
    "\n",
    "Las matrices cuadradas son aquellas que el numero de filas es igual al numero de columnas, es decir, una matriz de 3x3, 4x4, 5x5, etc.\n",
    "Las matrices rectangulares son aquellas que el numero de filas es diferente al numero de columnas, es decir, una matriz de 3x2, 4x3, 5x4, etc.\n",
    "![matrices_cuadradas_vs_rectangulares](image25.png)\n",
    "\n",
    "Dentro de las matrices rectangulares tenemos:\n",
    "\n",
    "Matrices altas, es decir, matrices con mas filas que columnas, es decir, una matriz de 3x2, 4x3, 5x4, etc.\n",
    "![matrices_altas](image26.png)\n",
    "\n",
    "Matrices anchas, es decir, matrices con mas columnas que filas, es decir, una matriz de 2x3, 3x4, 4x5, etc.\n",
    "![matrices_anchas](image27.png)\n",
    "\n",
    "Las matrices que mas vamos a encontrar en la naturaleza son las matrices rectangulares altas. La matriz mas util es una matriz cuadrada.\n",
    "\n",
    "##### Matrices diagonales\n",
    "La diagonal de una matriz es:\n",
    "![matriz_diagonal](image28.png)\n",
    "\n",
    "La matrices rectangulares si pueden tener diagonales\n",
    "\n",
    "\n"
   ]
  },
  {
   "cell_type": "code",
   "execution_count": 12,
   "id": "b877736c",
   "metadata": {},
   "outputs": [
    {
     "data": {
      "text/plain": [
       "array([[ 0,  1,  2,  3,  4,  5,  6,  7,  8,  9],\n",
       "       [10, 11, 12, 13, 14, 15, 16, 17, 18, 19],\n",
       "       [20, 21, 22, 23, 24, 25, 26, 27, 28, 29],\n",
       "       [30, 31, 32, 33, 34, 35, 36, 37, 38, 39],\n",
       "       [40, 41, 42, 43, 44, 45, 46, 47, 48, 49],\n",
       "       [50, 51, 52, 53, 54, 55, 56, 57, 58, 59]])"
      ]
     },
     "execution_count": 12,
     "metadata": {},
     "output_type": "execute_result"
    }
   ],
   "source": [
    "A = np.arange(60).reshape(6,10)\n",
    "A"
   ]
  },
  {
   "cell_type": "markdown",
   "id": "33d59f26",
   "metadata": {},
   "source": [
    "Para python la diagonal de esta matriz seria \n",
    "![matriz_diagonal](image29.png)"
   ]
  },
  {
   "cell_type": "code",
   "execution_count": 13,
   "id": "9b51e8fa",
   "metadata": {},
   "outputs": [
    {
     "data": {
      "text/plain": [
       "array([ 0, 11, 22, 33, 44, 55])"
      ]
     },
     "execution_count": 13,
     "metadata": {},
     "output_type": "execute_result"
    }
   ],
   "source": [
    "A = np.diag(A)\n",
    "A\n"
   ]
  },
  {
   "cell_type": "markdown",
   "id": "ccd260f5",
   "metadata": {},
   "source": [
    "La matriz diagonal formalmete solo se puede dar en matrices cuadradas\n",
    "\n",
    "Una matriz diagonal es una matriz cuadrada donde solo tiene numeros en su diagonal principal, todos los demas son ceros.\n",
    "![matriz_diagonal](image30.png)\n",
    "\n"
   ]
  },
  {
   "cell_type": "markdown",
   "id": "61c0b2e8",
   "metadata": {},
   "source": [
    "### Matrices triangulares\n",
    "Son matrices cuadradas en las cuales todos los elementos por encima de la diagonal principal son cero (matriz triangular alta), o todos los elementos por debajo de la diagonal principal son cero (matriz triangular baja).\n",
    "\n",
    "![matriz_triangular](image31.png)\n",
    "\n",
    "\n"
   ]
  },
  {
   "cell_type": "code",
   "execution_count": 14,
   "id": "92fe50fb",
   "metadata": {},
   "outputs": [
    {
     "data": {
      "text/plain": [
       "array([[ 0,  1,  2,  3,  4,  5,  6,  7],\n",
       "       [ 8,  9, 10, 11, 12, 13, 14, 15],\n",
       "       [16, 17, 18, 19, 20, 21, 22, 23],\n",
       "       [24, 25, 26, 27, 28, 29, 30, 31],\n",
       "       [32, 33, 34, 35, 36, 37, 38, 39],\n",
       "       [40, 41, 42, 43, 44, 45, 46, 47],\n",
       "       [48, 49, 50, 51, 52, 53, 54, 55],\n",
       "       [56, 57, 58, 59, 60, 61, 62, 63]])"
      ]
     },
     "execution_count": 14,
     "metadata": {},
     "output_type": "execute_result"
    }
   ],
   "source": [
    "B = np.arange(64).reshape(8,8)\n",
    "B\n"
   ]
  },
  {
   "cell_type": "code",
   "execution_count": 15,
   "id": "9d101a8e",
   "metadata": {},
   "outputs": [
    {
     "data": {
      "text/plain": [
       "array([[ 0,  1,  2,  3,  4,  5,  6,  7],\n",
       "       [ 0,  9, 10, 11, 12, 13, 14, 15],\n",
       "       [ 0,  0, 18, 19, 20, 21, 22, 23],\n",
       "       [ 0,  0,  0, 27, 28, 29, 30, 31],\n",
       "       [ 0,  0,  0,  0, 36, 37, 38, 39],\n",
       "       [ 0,  0,  0,  0,  0, 45, 46, 47],\n",
       "       [ 0,  0,  0,  0,  0,  0, 54, 55],\n",
       "       [ 0,  0,  0,  0,  0,  0,  0, 63]])"
      ]
     },
     "execution_count": 15,
     "metadata": {},
     "output_type": "execute_result"
    }
   ],
   "source": [
    "Balto = np.triu(B)\n",
    "Balto"
   ]
  },
  {
   "cell_type": "code",
   "execution_count": 16,
   "id": "b305fca0",
   "metadata": {},
   "outputs": [
    {
     "data": {
      "text/plain": [
       "array([[ 0,  0,  0,  0,  0,  0,  0,  0],\n",
       "       [ 8,  9,  0,  0,  0,  0,  0,  0],\n",
       "       [16, 17, 18,  0,  0,  0,  0,  0],\n",
       "       [24, 25, 26, 27,  0,  0,  0,  0],\n",
       "       [32, 33, 34, 35, 36,  0,  0,  0],\n",
       "       [40, 41, 42, 43, 44, 45,  0,  0],\n",
       "       [48, 49, 50, 51, 52, 53, 54,  0],\n",
       "       [56, 57, 58, 59, 60, 61, 62, 63]])"
      ]
     },
     "execution_count": 16,
     "metadata": {},
     "output_type": "execute_result"
    }
   ],
   "source": [
    "Bbajo = np.tril(B)\n",
    "Bbajo"
   ]
  },
  {
   "cell_type": "markdown",
   "id": "94fc426f",
   "metadata": {},
   "source": [
    "### Matriz identidad \n",
    "Es una matriz cuadrada donde la diagonal son puros unos y los demas elementos son cero.\n",
    "![matriz_identidad](image32.png)\n",
    "Es importante porque nos permite multiplicar por uno cuando se trata de matrices \n",
    "![matriz_identidad](image33.png)\n",
    "Las matrices no pueden multiplicar por escalares y por eso se multiplica por la matriz identidad.\n",
    "\n",
    "La matriz identidad siempre se llama I, y estan dadas por un sub indice que indica su tamanio, si fuers sub indice 4 es la matriz identidad 4x4 cuatro filas 4 columnas.\n",
    "![matriz_identidad](image34.png)\n",
    "\n",
    "Una parte importante de resolver sistemas de ecuaciones, es con matrices identidades.\n"
   ]
  },
  {
   "cell_type": "code",
   "execution_count": 17,
   "id": "d20b6e02",
   "metadata": {},
   "outputs": [
    {
     "data": {
      "text/plain": [
       "array([[1., 0., 0., 0.],\n",
       "       [0., 1., 0., 0.],\n",
       "       [0., 0., 1., 0.],\n",
       "       [0., 0., 0., 1.]])"
      ]
     },
     "execution_count": 17,
     "metadata": {},
     "output_type": "execute_result"
    }
   ],
   "source": [
    "## matriz identidad en python\n",
    "I = np.eye(4)\n",
    "I\n"
   ]
  },
  {
   "cell_type": "markdown",
   "id": "7060c2c2",
   "metadata": {},
   "source": [
    "### Matriz de ceros\n",
    "Una matriz de ceros es una matriz que tiene todos sus elementos igual a cero."
   ]
  },
  {
   "cell_type": "code",
   "execution_count": 18,
   "id": "1f335673",
   "metadata": {},
   "outputs": [
    {
     "data": {
      "text/plain": [
       "array([[0., 0., 0., 0.],\n",
       "       [0., 0., 0., 0.],\n",
       "       [0., 0., 0., 0.],\n",
       "       [0., 0., 0., 0.]])"
      ]
     },
     "execution_count": 18,
     "metadata": {},
     "output_type": "execute_result"
    }
   ],
   "source": [
    "ceros = np.zeros((4,4))\n",
    "ceros"
   ]
  },
  {
   "cell_type": "markdown",
   "id": "9a7bdc4f",
   "metadata": {},
   "source": [
    "### Operaciones con matrices\n",
    "\n",
    "#### Operaciones faciles\n",
    "Son las que hacen sus operaciones elemento por elemento y son muy **Intituivas** de entender: sumar resta y multiplicacion por escalares.\n",
    "![operaciones_faciles](image35.png)\n",
    "\n",
    "#### Operaciones dificiles\n",
    "Requieren entendimiento especial sobre las matrices y no son tan sencillas de aplicar. Multiplicacion de matrices, transoponer y matrices simetricas.\n",
    "![operaciones_dificiles](image36.png)\n",
    "\n"
   ]
  },
  {
   "cell_type": "code",
   "execution_count": null,
   "id": "47a5ef14",
   "metadata": {},
   "outputs": [
    {
     "data": {
      "text/plain": [
       "array([[ 2,  6,  5],\n",
       "       [ 0, -2,  6]])"
      ]
     },
     "execution_count": 19,
     "metadata": {},
     "output_type": "execute_result"
    }
   ],
   "source": [
    "## Sumar matrices\n",
    "M1 = np.array([[2, 3, 4], [1, 2, 4]])\n",
    "M2 = np.array([[0, 3, 1], [-1, -4, 2]])\n",
    "M1 + M2\n",
    "# La suma de matrices solo puede ser realizada si tienen la misma dimension(tamanio)"
   ]
  },
  {
   "cell_type": "markdown",
   "id": "cd52c268",
   "metadata": {},
   "source": [
    "![sumar_matrices](image37.png)"
   ]
  },
  {
   "cell_type": "code",
   "execution_count": 20,
   "id": "7a071aaa",
   "metadata": {},
   "outputs": [
    {
     "data": {
      "text/plain": [
       "array([[ 2,  6,  5],\n",
       "       [ 0, -2,  6]])"
      ]
     },
     "execution_count": 20,
     "metadata": {},
     "output_type": "execute_result"
    }
   ],
   "source": [
    "np.add(M1, M2)\n"
   ]
  },
  {
   "cell_type": "code",
   "execution_count": 21,
   "id": "281d82f0",
   "metadata": {},
   "outputs": [
    {
     "data": {
      "text/plain": [
       "array([[ 6,  7,  8],\n",
       "       [ 9, 10, 11],\n",
       "       [12, 13, 14]])"
      ]
     },
     "execution_count": 21,
     "metadata": {},
     "output_type": "execute_result"
    }
   ],
   "source": [
    "## La suma con un escalar matematicamente no es posible, pero en python crea una matriz cuadrada\n",
    "## del mismo tamanio que la matriz a sumar  con el escalar en cada elemntosy suma el escalar a cada elemento de la matriz a.\n",
    "\n",
    "A = np.arange(9).reshape(3, 3)\n",
    "A + 6\n"
   ]
  },
  {
   "cell_type": "markdown",
   "id": "544eeb6f",
   "metadata": {},
   "source": [
    "### Multiplicar por escalar\n",
    "![multiplicar_escalar](image38.png)"
   ]
  },
  {
   "cell_type": "code",
   "execution_count": 22,
   "id": "53586398",
   "metadata": {},
   "outputs": [
    {
     "data": {
      "text/plain": [
       "array([[ 0,  2,  4],\n",
       "       [ 6,  8, 10],\n",
       "       [12, 14, 16]])"
      ]
     },
     "execution_count": 22,
     "metadata": {},
     "output_type": "execute_result"
    }
   ],
   "source": [
    "### La multiplicacion por escalar es posible \n",
    "A = np.arange(9).reshape(3, 3)\n",
    "A * 2"
   ]
  },
  {
   "cell_type": "markdown",
   "id": "0a876a11",
   "metadata": {},
   "source": [
    "### Multiplicacion Hadamard\n",
    "Es multiplicar cada uno por su termino\n",
    "![multiplicar_hadamard](image39.png)"
   ]
  },
  {
   "cell_type": "code",
   "execution_count": 23,
   "id": "98341180",
   "metadata": {},
   "outputs": [
    {
     "name": "stdout",
     "output_type": "stream",
     "text": [
      "[[0 1 2]\n",
      " [3 4 5]\n",
      " [6 7 8]]\n",
      "[[0 1 2]\n",
      " [3 4 5]\n",
      " [6 7 8]]\n"
     ]
    },
    {
     "data": {
      "text/plain": [
       "array([[ 0,  1,  4],\n",
       "       [ 9, 16, 25],\n",
       "       [36, 49, 64]])"
      ]
     },
     "execution_count": 23,
     "metadata": {},
     "output_type": "execute_result"
    }
   ],
   "source": [
    "### Multiplicacion Hadamard\n",
    "A = np.arange(9).reshape(3, 3)\n",
    "B = np.arange(9).reshape(3, 3)\n",
    "print(A)\n",
    "print(B)\n",
    "A * B\n"
   ]
  },
  {
   "cell_type": "markdown",
   "id": "a7c0b2ab",
   "metadata": {},
   "source": [
    "### Multiplicacion de matrices\n",
    "\n",
    "Lo mas importante es que el numero de columnas de la primer matriz A es igual al numero de filas de la segunda matriz B. Es decir que las columnas cuadre.\n",
    "![multiplicar_matrices](image40.png)\n",
    "\n",
    "Como matriz de resultado de esta multiplicacion sera una nueva matriz, la cual tendra de tamanio el numero de filas de A por el numero de columnas de B.\n",
    "![multiplicar_matrices_resultado](image41.png)\n",
    "\n",
    "El orden de los factores si altera el producto en multiplicacion de matrices, por lo que no es conmutativa la operacion de multiplicacion.\n",
    "![multiplicar_matrices_orden](image42.png)\n"
   ]
  },
  {
   "cell_type": "code",
   "execution_count": 24,
   "id": "eeae8760",
   "metadata": {},
   "outputs": [
    {
     "name": "stdout",
     "output_type": "stream",
     "text": [
      "[[ 0  1  2  3  4  5  6  7]\n",
      " [ 8  9 10 11 12 13 14 15]\n",
      " [16 17 18 19 20 21 22 23]\n",
      " [24 25 26 27 28 29 30 31]\n",
      " [32 33 34 35 36 37 38 39]\n",
      " [40 41 42 43 44 45 46 47]]\n",
      "[[ 0  1  2]\n",
      " [ 3  4  5]\n",
      " [ 6  7  8]\n",
      " [ 9 10 11]\n",
      " [12 13 14]\n",
      " [15 16 17]\n",
      " [18 19 20]\n",
      " [21 22 23]]\n"
     ]
    },
    {
     "data": {
      "text/plain": [
       "array([[ 420,  448,  476],\n",
       "       [1092, 1184, 1276],\n",
       "       [1764, 1920, 2076],\n",
       "       [2436, 2656, 2876],\n",
       "       [3108, 3392, 3676],\n",
       "       [3780, 4128, 4476]])"
      ]
     },
     "execution_count": 24,
     "metadata": {},
     "output_type": "execute_result"
    }
   ],
   "source": [
    "## Multipliacacion en python\n",
    "A = np.arange(48).reshape(6, 8)\n",
    "B = np.arange(24).reshape(8, 3)\n",
    "print(A)\n",
    "print(B)\n",
    "A @ B\n"
   ]
  },
  {
   "cell_type": "markdown",
   "id": "dca6adb1",
   "metadata": {},
   "source": [
    "Las combinaciones lineales se pueden representar con el producto de una matriz por vector.\n",
    "![combinacion_lineal](image43.png)\n"
   ]
  },
  {
   "cell_type": "markdown",
   "id": "5daebd66",
   "metadata": {},
   "source": [
    "### Interpretacion geometrica de la multiplicacion de matrices\n",
    "\n",
    "Como una matriz se puede interpretar como una transformacion lineal?\n",
    "\n",
    "Una matriz es una transformacion lineal, es decir es una funcion que transforma un vector en otro vector.\n",
    "\n",
    "Un vector con coordenadas X, Y seria  (X) i + (Y) j\n",
    "![vector](image44.png)\n",
    "\n",
    "\n",
    "Si se lleva un registro donde aterriza i y j se puede saber donde va a caer otro vector.\n",
    "![vector_transformado](image45.png)\n",
    "\n",
    "En la vida real vas a querer describir los efectos de aplicar una transformacion y luego otra.\n",
    "\n",
    "Ejemplo rotar el plano 90 grado y luego aplicamos un corte (shear). \n",
    "![transformacion_geometrica](image46.png)\n",
    "\n",
    "Esta transformacion lineal compuesta de rotacion y corte se llama \"Composicion\", puede ser descrita por una matriz de  de donde i y j aterrizan.\n",
    "![transformacion_composicion](image47.png)\n",
    "\n",
    "La nueva matriz realiza las dos operaciones al instante como si se realizara primero la rotacion y luego el corte.\n",
    "Esto seria el procedimiento original \n",
    "![transformacion_una_tras_otra](image48.png)\n",
    "\n",
    "La matriz de composicion es en si el producto de las dos matrices originales que realizan la transformaciones una tras otra\n",
    "![transformacion_composicion_producto](image49.png)\n",
    "\n",
    "En algebra lineal leemos de derecha a izquierda es decir, producto de la matriz de la derecha por matriz de  la izquierda.\n",
    "![transformacion_composicion_producto_2](image50.png)\n",
    "\n",
    "![columna 1](image51.png)\n",
    "![Columna 2](image52.png)\n",
    "\n",
    "La multiplicacion de matrices corresponde a aplicar una transformacion lineal, una detras de otra. \n",
    "El orden de la aplicacion de las transformaciones es de derecha a izquierda. Por lo que el orden  no es lo mismo por ejemolo primero rotar 90 grador y luego cortar, que cortar y luego rotar, por lo que el orden de la multiplicacion de matrices si importa y mucho.\n",
    "\n",
    "La multiplicacion de matrices es asociativa, (AB)C = A(BC).\n",
    "Las multiplicacion de matrices no es conmutativa, A*B != B*A.\n",
    "\n",
    "La multiplicacion de matrices nos puede servir para la descomposicion:\n",
    "![descomposicion](image53.png)\n",
    "\n",
    "Vamos a ver:\n",
    "-   Descomposicion Ortogonal QR\n",
    "-   Descomposicion LU\n",
    "-   Eigendescomposicio \n",
    "-   Descomposicion SVD (descomposion en valores singulares)\n",
    "\n",
    "\n",
    "Al multiplicar dos matrices, estoy componiendo una matriz nueva, es decir genero una nueva transformacion, compuesta de las transformaciones de las matrices originales.\n",
    "\n",
    "La descomposicion es entonces Una descomposición es el proceso de dividir o separar algo complejo en partes más simples y manejables.  En matrices, la descomposición (o factorización matricial) consiste en expresar una matriz como el producto de dos o más matrices con propiedades específicas\n",
    "\n",
    "Si yo combino 2,3,4 Transformaciones lineales voy a obtner una nueva transformacion y es el resultado de haber aplicado todas esas transformaciones lineales juntas.\n",
    "\n"
   ]
  },
  {
   "cell_type": "markdown",
   "id": "ad9aa347",
   "metadata": {},
   "source": [
    "### Transponer una matriz\n",
    "Las filas de una matriz se convertirán en columnas y viceversa las columnas se combierten en filas.\n",
    "![transponer_matriz](image54.png)\n"
   ]
  },
  {
   "cell_type": "code",
   "execution_count": 25,
   "id": "2b886431",
   "metadata": {},
   "outputs": [
    {
     "name": "stdout",
     "output_type": "stream",
     "text": [
      "[[ 0  1]\n",
      " [ 2  3]\n",
      " [ 4  5]\n",
      " [ 6  7]\n",
      " [ 8  9]\n",
      " [10 11]]\n"
     ]
    },
    {
     "data": {
      "text/plain": [
       "array([[ 0,  2,  4,  6,  8, 10],\n",
       "       [ 1,  3,  5,  7,  9, 11]])"
      ]
     },
     "execution_count": 25,
     "metadata": {},
     "output_type": "execute_result"
    }
   ],
   "source": [
    "A = np.arange(12).reshape(6, 2)\n",
    "print(A)\n",
    "A.T\n"
   ]
  },
  {
   "cell_type": "markdown",
   "id": "730376a3",
   "metadata": {},
   "source": [
    "Entre matrices no existe el producto punto, la operacion importante es el producto de matrices.\n",
    "\n",
    "(LIVE).T = E.T V.T I.T L.T\n",
    "\n",
    "Donde el transpuesto del producto de varias matrices multiplicadas  = Matrices individuales transpuestas y  multiplicadas.\n",
    "\n",
    "### Matriz simetrica \n",
    "Puedes entenderla de dos maneras diferentes: \n",
    "1) La matriz simetrica es igual a su transpuesta.\n",
    "2) La matriz simetrica tiene los mismos valores en la diagonal principal y en la diagonal secundaria.\n",
    "![matriz_simetrica](image55.png)\n",
    "\n",
    "Para forzar a una matriz simetrica es multiplicarla por su transpuesta y se obtiene una simetrica.\n",
    "\n"
   ]
  },
  {
   "cell_type": "code",
   "execution_count": 26,
   "id": "6dad2277",
   "metadata": {},
   "outputs": [
    {
     "data": {
      "text/plain": [
       "array([[ 14,  32,  50],\n",
       "       [ 32,  77, 122],\n",
       "       [ 50, 122, 194]])"
      ]
     },
     "execution_count": 26,
     "metadata": {},
     "output_type": "execute_result"
    }
   ],
   "source": [
    "### ejemplo \n",
    "A = np.array([[1, 2, 3], [4, 5, 6], [7, 8, 9]])\n",
    "B = A.T\n",
    "C = A @ B\n",
    "C"
   ]
  },
  {
   "cell_type": "code",
   "execution_count": 27,
   "id": "150f320a",
   "metadata": {},
   "outputs": [
    {
     "data": {
      "text/plain": [
       "array([[ 14,  32,  50],\n",
       "       [ 32,  77, 122],\n",
       "       [ 50, 122, 194]])"
      ]
     },
     "execution_count": 27,
     "metadata": {},
     "output_type": "execute_result"
    }
   ],
   "source": [
    "C.T"
   ]
  },
  {
   "cell_type": "markdown",
   "id": "bef32379",
   "metadata": {},
   "source": [
    "### Resumen de matrices\n",
    "1.  Las matrices son transformaciones lineales\n",
    "2.  Hay varias categorias de matrices especiales, hay que conocer sus propiedades:\n",
    "    - Matriz identidad: Es una matriz cuadrada con unos en la diagonal principal y ceros en el resto de la matriz.\n",
    "    - Matriz simetrica: Es una matriz cuadrada que es igual a su transpuesta.\n",
    "    - Matriz diagonal: Es una matriz cuadrada con ceros en la diagonal principal y unos en el resto de la matriz.\n",
    "    - Matriz singular: Es una matriz cuadrada que no tiene inversa.\n",
    "    - Matriz invertible: Es una matriz cuadrada que tiene inversa.\n",
    "3.  Hay operaciones como la suma, resta, multiplicacion por un escalar y Hadamard son sencillas.\n",
    "4.  Hay operaciones como la multiplicacion de matrices que no es muy intituiva pero no es dificil.\n",
    "5.  Las matrices simetricas se espejean a traves de la diagonal cada fila es igual a su columna correspondiente.\n",
    "\n"
   ]
  },
  {
   "cell_type": "markdown",
   "id": "45c81791",
   "metadata": {},
   "source": [
    "## Matrices rectangulares\n",
    "La matrices rectangulares pueden transformar vectores de una dimencion a vectores en otra dimension. \n",
    "![matriz_rectangulares](image56.png)\n",
    "Es totalmente viable, el hablar de transformaciones entre dimensiones, como soln las transformaciones que toman vectores 2D y los combierten en vectores 3D.\n",
    "![matriz_rectangulares_2](image57.png)\n",
    "Para que una transformacion sea lineal solo hay que asegurarse que la cuadricula permanece paralela y equidistante, asi como que el origen se queda en el mismo lugar.\n",
    "![transformacion_lineal](image58.png)\n",
    "En la matriz de transformacion tenemos las columnas donde cae el vector i y la columna donde cael vector j.\n",
    "![transformacion_lineal_2](image59.png)\n",
    "\n",
    "Es decir una matriz de 3(filas) x 2 (columnas), una matriz rectangulares puede transformar vectores de 2D a vectores de 3D.\n",
    "El span de columnas de esta matriz es un plano de 2d, que corta el espacio de 3d, por el origen.\n",
    "\n",
    "Entonces si nos encontramos una matriz rectangular, es una transformacion que puede tramsformar el espacio de 2d en 3 dimenciones.\n",
    "\n",
    "En caso contrario si tenemos una matriz de 2(filas) x 3 (columnas), una matriz rectangulares puede transformar vectores de 3D a vectores de 2D. Las tres columnas indican que comenzamos en un espacio base que tiene tres dimensiones y las 2 filas indican que el espacio de aterrizaje es un espacio de 2 dimenciones.\n",
    "![transformacion_lineal_3](image60.png)\n",
    "\n",
    "Se puede tener tambien transformaciones de 2D a una dimension 1D. Seria una tranfomacion que toma vectores 2D y escupe numeros en la recta numerica.\n",
    "![transformacion_lineal_4](image61.png)\n",
    "Este tipo de transfomacion seria mapeda con una matriz de [1 2], cada una de sus dos columnas tiene una salida.\n",
    "![transformacion_lineal_5](image62.png)\n",
    "\n",
    "\n",
    "\n",
    "\n",
    "\n",
    "\n",
    "\n",
    "\n",
    "\n"
   ]
  }
 ],
 "metadata": {
  "kernelspec": {
   "display_name": "algebra_lineal",
   "language": "python",
   "name": "python3"
  },
  "language_info": {
   "codemirror_mode": {
    "name": "ipython",
    "version": 3
   },
   "file_extension": ".py",
   "mimetype": "text/x-python",
   "name": "python",
   "nbconvert_exporter": "python",
   "pygments_lexer": "ipython3",
   "version": "3.11.13"
  }
 },
 "nbformat": 4,
 "nbformat_minor": 5
}
