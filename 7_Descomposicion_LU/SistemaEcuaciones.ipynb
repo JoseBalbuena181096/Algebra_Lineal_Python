{
 "cells": [
  {
   "cell_type": "code",
   "execution_count": 15,
   "id": "5d1c52c5",
   "metadata": {},
   "outputs": [
    {
     "data": {
      "text/plain": [
       "array([[ 1,  1, -1],\n",
       "       [ 1, -2,  3],\n",
       "       [ 2,  3,  1]])"
      ]
     },
     "execution_count": 15,
     "metadata": {},
     "output_type": "execute_result"
    }
   ],
   "source": [
    "import numpy as np\n",
    "import scipy.linalg as sp\n",
    "\n",
    "A = np.array([[1, 1, -1], [1, -2, 3], [2, 3, 1]])\n",
    "A"
   ]
  },
  {
   "cell_type": "code",
   "execution_count": 16,
   "id": "97cd4b20",
   "metadata": {},
   "outputs": [
    {
     "name": "stdout",
     "output_type": "stream",
     "text": [
      "[[1.         0.         0.        ]\n",
      " [0.5        1.         0.        ]\n",
      " [0.5        0.14285714 1.        ]]\n",
      "[[ 2.          3.          1.        ]\n",
      " [ 0.         -3.5         2.5       ]\n",
      " [ 0.          0.         -1.85714286]]\n"
     ]
    }
   ],
   "source": [
    "P, L, U = sp.lu(A)\n",
    "print(L)\n",
    "print(U)"
   ]
  },
  {
   "cell_type": "code",
   "execution_count": 17,
   "id": "3a4d8309",
   "metadata": {},
   "outputs": [
    {
     "name": "stdout",
     "output_type": "stream",
     "text": [
      "Vector V: [ 4. -6.  7.]\n"
     ]
    }
   ],
   "source": [
    "# Vector V dado\n",
    "V = np.array([4, -6, 7], dtype=float) \n",
    "V_P = P @ V\n",
    "print('Vector V:', V)"
   ]
  },
  {
   "cell_type": "code",
   "execution_count": 18,
   "id": "fe650995",
   "metadata": {},
   "outputs": [
    {
     "name": "stdout",
     "output_type": "stream",
     "text": [
      "Paso 1 - Resolver Ly = V usando scipy:\n",
      "y = [ 7.         -9.5         1.85714286]\n"
     ]
    }
   ],
   "source": [
    "# SOLUCIÓN USANDO SCIPY:\n",
    "# Paso 1: Resolver Ly = V usando scipy.linalg.solve_triangular\n",
    "y = sp.solve_triangular(L, V_P, lower=True)\n",
    "print('Paso 1 - Resolver Ly = V usando scipy:')\n",
    "print('y =', y)"
   ]
  },
  {
   "cell_type": "code",
   "execution_count": 19,
   "id": "554656b1",
   "metadata": {},
   "outputs": [
    {
     "name": "stdout",
     "output_type": "stream",
     "text": [
      "Paso 2 - Resolver Ux = y usando scipy:\n",
      "x = [ 1.  2. -1.]\n",
      "\n"
     ]
    }
   ],
   "source": [
    "# Paso 2: Resolver Ux = y usando scipy.linalg.solve_triangular  \n",
    "x = sp.solve_triangular(U, y, lower=False)\n",
    "print('Paso 2 - Resolver Ux = y usando scipy:')\n",
    "print('x =', x)\n",
    "print()"
   ]
  },
  {
   "cell_type": "code",
   "execution_count": 20,
   "id": "a9025846",
   "metadata": {},
   "outputs": [
    {
     "name": "stdout",
     "output_type": "stream",
     "text": [
      "=== SOLUCIÓN FINAL ===\n",
      "x₁ = 1.000000\n",
      "x₂ = 2.000000\n",
      "x₃ = -1.000000\n",
      "\n"
     ]
    }
   ],
   "source": [
    "print('=== SOLUCIÓN FINAL ===')\n",
    "print(f'x₁ = {x[0]:.6f}')\n",
    "print(f'x₂ = {x[1]:.6f}')\n",
    "print(f'x₃ = {x[2]:.6f}')\n",
    "print()"
   ]
  },
  {
   "cell_type": "code",
   "execution_count": 21,
   "id": "199fb3dc",
   "metadata": {},
   "outputs": [
    {
     "name": "stdout",
     "output_type": "stream",
     "text": [
      "Verificación Ax = [ 4. -6.  7.]\n",
      "V original    = [ 4. -6.  7.]\n",
      "¿Correcto? True\n"
     ]
    }
   ],
   "source": [
    "# Verificación\n",
    "verificacion = np.dot(A, x)\n",
    "print('Verificación Ax =', verificacion)\n",
    "print('V original    =', V)\n",
    "print('¿Correcto?', np.allclose(verificacion, V))"
   ]
  },
  {
   "cell_type": "markdown",
   "id": "fa3f80f3",
   "metadata": {},
   "source": [
    "-   Los sistemas de ecuaciones se resolvian con Algebra Lineal antes de las computadoras.\n",
    "-   Existe la reduccion de filas como procedimiento en Algebra Lineal.\n",
    "-   La reduccion de filas se usa para la factorizacion LU.\n",
    "-   A = LU"
   ]
  }
 ],
 "metadata": {
  "kernelspec": {
   "display_name": "algebra_lineal",
   "language": "python",
   "name": "python3"
  },
  "language_info": {
   "codemirror_mode": {
    "name": "ipython",
    "version": 3
   },
   "file_extension": ".py",
   "mimetype": "text/x-python",
   "name": "python",
   "nbconvert_exporter": "python",
   "pygments_lexer": "ipython3",
   "version": "3.11.13"
  }
 },
 "nbformat": 4,
 "nbformat_minor": 5
}