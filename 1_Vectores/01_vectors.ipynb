{
 "cells": [
  {
   "cell_type": "code",
   "execution_count": 72,
   "id": "e96a9495",
   "metadata": {},
   "outputs": [],
   "source": [
    "import numpy as np # usar vectores \n",
    "import matplotlib.pyplot as plt # realizar gráficas"
   ]
  },
  {
   "cell_type": "code",
   "execution_count": 73,
   "id": "f458e647",
   "metadata": {},
   "outputs": [
    {
     "data": {
      "text/plain": [
       "[3, 1]"
      ]
     },
     "execution_count": 73,
     "metadata": {},
     "output_type": "execute_result"
    }
   ],
   "source": [
    "v = [3,1]\n",
    "v # esta es una lista no un vector"
   ]
  },
  {
   "cell_type": "code",
   "execution_count": 74,
   "id": "1c6961f3",
   "metadata": {},
   "outputs": [
    {
     "data": {
      "text/plain": [
       "array([3, 1])"
      ]
     },
     "execution_count": 74,
     "metadata": {},
     "output_type": "execute_result"
    }
   ],
   "source": [
    "Vec = np.array([3,1]) # esto ya es un vector\n",
    "Vec\n"
   ]
  },
  {
   "cell_type": "code",
   "execution_count": 75,
   "id": "d0c2b3c8",
   "metadata": {},
   "outputs": [
    {
     "data": {
      "text/plain": [
       "(2,)"
      ]
     },
     "execution_count": 75,
     "metadata": {},
     "output_type": "execute_result"
    }
   ],
   "source": [
    "# saber su figura\n",
    "Vec.shape\n"
   ]
  },
  {
   "cell_type": "code",
   "execution_count": 76,
   "id": "3caec6e8",
   "metadata": {},
   "outputs": [
    {
     "data": {
      "text/plain": [
       "array([[ 5, 10, 15, 20]])"
      ]
     },
     "execution_count": 76,
     "metadata": {},
     "output_type": "execute_result"
    }
   ],
   "source": [
    "VecFila = np.array([[5,10, 15, 20]]) # vector fila\n",
    "VecFila\n"
   ]
  },
  {
   "cell_type": "code",
   "execution_count": 77,
   "id": "130973e0",
   "metadata": {},
   "outputs": [
    {
     "data": {
      "text/plain": [
       "(1, 4)"
      ]
     },
     "execution_count": 77,
     "metadata": {},
     "output_type": "execute_result"
    }
   ],
   "source": [
    "VecFila.shape # una fila cuatro columnas"
   ]
  },
  {
   "cell_type": "markdown",
   "id": "b4463921",
   "metadata": {},
   "source": [
    "#### Gráfica de tipo quiver"
   ]
  },
  {
   "cell_type": "code",
   "execution_count": 78,
   "id": "f55a8ec1",
   "metadata": {},
   "outputs": [
    {
     "data": {
      "text/plain": [
       "array([[0],\n",
       "       [0]])"
      ]
     },
     "execution_count": 78,
     "metadata": {},
     "output_type": "execute_result"
    }
   ],
   "source": [
    "# origen del vector y donde va la flecha\n",
    "origen = np.array([[0],[0]])\n",
    "origen"
   ]
  },
  {
   "cell_type": "code",
   "execution_count": 79,
   "id": "c98a127f",
   "metadata": {},
   "outputs": [
    {
     "data": {
      "text/plain": [
       "'\\n[0]  fila 1 columna 1\\n[1]  fila 2 columna 1\\n'"
      ]
     },
     "execution_count": 79,
     "metadata": {},
     "output_type": "execute_result"
    }
   ],
   "source": [
    "origen.shape  ## 2 filas una columna \n",
    "\"\"\"\n",
    "[0]  fila 1 columna 1\n",
    "[1]  fila 2 columna 1\n",
    "\"\"\""
   ]
  },
  {
   "cell_type": "code",
   "execution_count": 80,
   "id": "f9c0b47b",
   "metadata": {},
   "outputs": [
    {
     "data": {
      "text/plain": [
       "array([[3, 3]])"
      ]
     },
     "execution_count": 80,
     "metadata": {},
     "output_type": "execute_result"
    }
   ],
   "source": [
    "V = np.array([[3,3]])\n",
    "v\n",
    "\n",
    "V"
   ]
  },
  {
   "cell_type": "code",
   "execution_count": 81,
   "id": "dd48551e",
   "metadata": {},
   "outputs": [
    {
     "data": {
      "text/plain": [
       "(1, 2)"
      ]
     },
     "execution_count": 81,
     "metadata": {},
     "output_type": "execute_result"
    }
   ],
   "source": [
    "V.shape # un vecto de 1 fila 2 columnas el vector esta acostado"
   ]
  },
  {
   "cell_type": "code",
   "execution_count": 82,
   "id": "6275a20a",
   "metadata": {},
   "outputs": [
    {
     "data": {
      "image/png": "[encoded data removed]",
      "text/plain": [
       "<Figure size 640x480 with 1 Axes>"
      ]
     },
     "metadata": {},
     "output_type": "display_data"
    }
   ],
   "source": [
    "plt.quiver(*origen,V[:,0],V[:,1], color=['b'], units=\"xy\", scale=1)\n",
    "plt.xlim(-10,10)\n",
    "plt.ylim(-10,10)\n",
    "plt.grid()\n",
    "plt.show()"
   ]
  },
  {
   "cell_type": "code",
   "execution_count": 83,
   "id": "aa05b208",
   "metadata": {},
   "outputs": [
    {
     "data": {
      "text/plain": [
       "(2, 2)"
      ]
     },
     "execution_count": 83,
     "metadata": {},
     "output_type": "execute_result"
    }
   ],
   "source": [
    "origen = np.array([[0,0], [0,0]])\n",
    "origen.shape\n"
   ]
  },
  {
   "cell_type": "code",
   "execution_count": 84,
   "id": "d5c67aa5",
   "metadata": {},
   "outputs": [
    {
     "data": {
      "text/plain": [
       "array([[ 3,  3],\n",
       "       [-5,  4]])"
      ]
     },
     "execution_count": 84,
     "metadata": {},
     "output_type": "execute_result"
    }
   ],
   "source": [
    "V = np.array([[3,3],[-5,4]])\n",
    "V"
   ]
  },
  {
   "cell_type": "code",
   "execution_count": 85,
   "id": "fb463533",
   "metadata": {},
   "outputs": [
    {
     "data": {
      "image/png": "[encoded data removed]",
      "text/plain": [
       "<Figure size 640x480 with 1 Axes>"
      ]
     },
     "metadata": {},
     "output_type": "display_data"
    }
   ],
   "source": [
    "plt.quiver(*origen, V[:,0], V[:,1], color=['b','r'], units=\"xy\", scale=1)\n",
    "plt.xlim(-10,10)\n",
    "plt.ylim(-10,10)\n",
    "plt.grid()\n",
    "plt.show()\n"
   ]
  },
  {
   "cell_type": "code",
   "execution_count": 86,
   "id": "cfdfe17d",
   "metadata": {},
   "outputs": [
    {
     "data": {
      "text/plain": [
       "array([-2,  7])"
      ]
     },
     "execution_count": 86,
     "metadata": {},
     "output_type": "execute_result"
    }
   ],
   "source": [
    "V1 = np.array([3,3])\n",
    "V2 = np.array([-5,4])\n",
    "V3 = V1 + V2\n",
    "V3\n"
   ]
  },
  {
   "cell_type": "code",
   "execution_count": 87,
   "id": "2c139564",
   "metadata": {},
   "outputs": [
    {
     "data": {
      "text/plain": [
       "array([[ 3,  3],\n",
       "       [-5,  4],\n",
       "       [-2,  7]])"
      ]
     },
     "execution_count": 87,
     "metadata": {},
     "output_type": "execute_result"
    }
   ],
   "source": [
    "# VECTOR GENERAL VECTOR DE VECTORES\n",
    "V = np.array([V1, V2, V3])\n",
    "V\n"
   ]
  },
  {
   "cell_type": "code",
   "execution_count": 88,
   "id": "292dc6a0",
   "metadata": {},
   "outputs": [
    {
     "data": {
      "text/plain": [
       "array([[0, 3, 0],\n",
       "       [0, 3, 0]])"
      ]
     },
     "execution_count": 88,
     "metadata": {},
     "output_type": "execute_result"
    }
   ],
   "source": [
    "origen = np.array([[0,3,0], [0,3,0]])\n",
    "origen"
   ]
  },
  {
   "cell_type": "code",
   "execution_count": 89,
   "id": "f7546f58",
   "metadata": {},
   "outputs": [
    {
     "data": {
      "image/png": "[encoded data removed]",
      "text/plain": [
       "<Figure size 640x480 with 1 Axes>"
      ]
     },
     "metadata": {},
     "output_type": "display_data"
    }
   ],
   "source": [
    "plt.quiver(*origen, V[:,0], V[:,1], color=['b','r','g'], units=\"xy\", scale=1)\n",
    "plt.xlim(-10,10)\n",
    "plt.ylim(-10,10)\n",
    "plt.grid()\n",
    "plt.show()"
   ]
  },
  {
   "cell_type": "code",
   "execution_count": 90,
   "id": "90458cd2",
   "metadata": {},
   "outputs": [],
   "source": [
    "V0 = np.array([4,5,44,12]) \n",
    "E0 = 6"
   ]
  },
  {
   "cell_type": "code",
   "execution_count": 91,
   "id": "b019abf6",
   "metadata": {},
   "outputs": [
    {
     "data": {
      "text/plain": [
       "array([10, 11, 50, 18])"
      ]
     },
     "execution_count": 91,
     "metadata": {},
     "output_type": "execute_result"
    }
   ],
   "source": [
    "# ESTO EN MATEMATICAS SE PUEDE HACER EN MATEMATICAS NO SE PUEDE SUMAR UN ESCALAR MAS UN VECTOR\n",
    "# YO LO VEO COMO QUE CREAMOS UN VECTOR CON LOS VALORES DE E0, DEL TAMANIO DE V0 Y LOS SUMANOS\n",
    "\n",
    "V0 + E0\n"
   ]
  },
  {
   "cell_type": "code",
   "execution_count": 92,
   "id": "03f5f032",
   "metadata": {},
   "outputs": [
    {
     "data": {
      "text/plain": [
       "array([[1, 2, 3, 4]])"
      ]
     },
     "execution_count": 92,
     "metadata": {},
     "output_type": "execute_result"
    }
   ],
   "source": [
    "# TRANSPONER VECTORES\n",
    "V1 = np.array([[1,2,3,4]])\n",
    "V1\n"
   ]
  },
  {
   "cell_type": "code",
   "execution_count": 93,
   "id": "557dd3ff",
   "metadata": {},
   "outputs": [
    {
     "data": {
      "text/plain": [
       "array([[1],\n",
       "       [2],\n",
       "       [3],\n",
       "       [4]])"
      ]
     },
     "execution_count": 93,
     "metadata": {},
     "output_type": "execute_result"
    }
   ],
   "source": [
    "V1.T"
   ]
  },
  {
   "cell_type": "code",
   "execution_count": 94,
   "id": "dae676d1",
   "metadata": {},
   "outputs": [
    {
     "data": {
      "text/plain": [
       "array([[ 8,  9, 10, 11],\n",
       "       [ 1,  2,  3,  4]])"
      ]
     },
     "execution_count": 94,
     "metadata": {},
     "output_type": "execute_result"
    }
   ],
   "source": [
    "V2 = np.array([[8,9,10,11], [1,2,3,4]])\n",
    "V2"
   ]
  },
  {
   "cell_type": "code",
   "execution_count": 95,
   "id": "794c1174",
   "metadata": {},
   "outputs": [
    {
     "data": {
      "text/plain": [
       "array([[ 8,  1],\n",
       "       [ 9,  2],\n",
       "       [10,  3],\n",
       "       [11,  4]])"
      ]
     },
     "execution_count": 95,
     "metadata": {},
     "output_type": "execute_result"
    }
   ],
   "source": [
    "V2.T"
   ]
  },
  {
   "cell_type": "markdown",
   "id": "dbf79a3c",
   "metadata": {},
   "source": [
    "### Magnitud (Norma) de un vector en 2D\n",
    "![Magnitud de un vector en 2D](image9.png)\n",
    "\n",
    "![Distancia euclidiana para calcular la magnitud de un vector en ND](image10.png)\n",
    "\n"
   ]
  },
  {
   "cell_type": "markdown",
   "id": "26ca02a9",
   "metadata": {},
   "source": [
    "### Calcular la magnitud de un vector"
   ]
  },
  {
   "cell_type": "code",
   "execution_count": 96,
   "id": "6a734db9",
   "metadata": {},
   "outputs": [
    {
     "name": "stdout",
     "output_type": "stream",
     "text": [
      "[4 3]\n",
      "[4 3 2]\n",
      "[4 3 2 6]\n"
     ]
    }
   ],
   "source": [
    "# Calcula la magnitud de los siguientes vectores\n",
    "V0 = np.array([4,3])\n",
    "V1 = np.array([4,3,2])\n",
    "V2 = np.array([4,3,2,6])\n",
    "print(V0)\n",
    "print(V1)\n",
    "print(V2)"
   ]
  },
  {
   "cell_type": "code",
   "execution_count": 97,
   "id": "cf78fc81",
   "metadata": {},
   "outputs": [
    {
     "name": "stdout",
     "output_type": "stream",
     "text": [
      "5.0\n",
      "5.385164807134504\n",
      "8.06225774829855\n"
     ]
    }
   ],
   "source": [
    "normaV0 = np.linalg.norm(V0)\n",
    "print(normaV0)\n",
    "normaV1 = np.linalg.norm(V1)\n",
    "print(normaV1)\n",
    "normaV2 = np.linalg.norm(V2)\n",
    "print(normaV2)\n"
   ]
  },
  {
   "cell_type": "code",
   "execution_count": 98,
   "id": "5f01bba1",
   "metadata": {},
   "outputs": [
    {
     "name": "stdout",
     "output_type": "stream",
     "text": [
      "[ 4  5 44 12]\n",
      "[0.08685397 0.10856746 0.95539363 0.2605619 ]\n"
     ]
    }
   ],
   "source": [
    "# Ejercicio funcion que calcula el vector unitario asociado \n",
    "def vector_unitario(V):\n",
    "    return V / np.linalg.norm(V)\n",
    "\n",
    "V0 = np.array([4,5,44,12])\n",
    "print(V0)\n",
    "print(vector_unitario(V0))"
   ]
  },
  {
   "cell_type": "markdown",
   "id": "da7e3ea0",
   "metadata": {},
   "source": [
    "### Formula producto punto\n",
    "\n",
    "![Producto punto entre vectores](image.png)\n",
    "\n"
   ]
  },
  {
   "cell_type": "code",
   "execution_count": 99,
   "id": "cb0295e0",
   "metadata": {},
   "outputs": [
    {
     "data": {
      "text/plain": [
       "np.int64(60)"
      ]
     },
     "execution_count": 99,
     "metadata": {},
     "output_type": "execute_result"
    }
   ],
   "source": [
    "V0 = np.array([1,2,3,4])\n",
    "V1 = np.array([4,5,6,7])\n",
    "\n",
    "# producto punto \n",
    "np.dot(V0,V1)"
   ]
  },
  {
   "cell_type": "markdown",
   "id": "9d99aae3",
   "metadata": {},
   "source": []
  },
  {
   "cell_type": "code",
   "execution_count": 100,
   "id": "0e156351",
   "metadata": {},
   "outputs": [
    {
     "data": {
      "text/plain": [
       "np.int64(362)"
      ]
     },
     "execution_count": 100,
     "metadata": {},
     "output_type": "execute_result"
    }
   ],
   "source": [
    "V0 = np.array([9,10,11, 0])\n",
    "V1 = np.array([11,12,13,17])\n",
    "np.dot(V0,V1)"
   ]
  },
  {
   "cell_type": "markdown",
   "id": "bfbfaf63",
   "metadata": {},
   "source": [
    "### Producto punto\n",
    "Es una medida de similitud entre dos vectores\n",
    "\n",
    "![Producto punto entre vectores](image2.png)"
   ]
  },
  {
   "cell_type": "code",
   "execution_count": 101,
   "id": "11b840aa",
   "metadata": {},
   "outputs": [
    {
     "data": {
      "text/plain": [
       "np.int64(82)"
      ]
     },
     "execution_count": 101,
     "metadata": {},
     "output_type": "execute_result"
    }
   ],
   "source": [
    "a = np.array([1,2,3])\n",
    "b = np.array([4,5,6])\n",
    "c = np.array([7,8,9])\n",
    "np.dot(a,b+c)"
   ]
  },
  {
   "cell_type": "code",
   "execution_count": 102,
   "id": "c5ba4ad5",
   "metadata": {},
   "outputs": [
    {
     "data": {
      "text/plain": [
       "np.int64(82)"
      ]
     },
     "execution_count": 102,
     "metadata": {},
     "output_type": "execute_result"
    }
   ],
   "source": [
    "np.dot(a,c) + np.dot(a,b)\n"
   ]
  },
  {
   "cell_type": "markdown",
   "id": "bcd04cab",
   "metadata": {},
   "source": [
    "### Interpretacion geometrica\n",
    "\n",
    "![Producto punto entre vectores](image3.png)\n",
    "![Producto punto vectores en diferentes direcciones](image4.png)\n",
    "![Producto punto vectores en la misma direccion](image5.png)\n",
    "![Producto punto vectores perpendiculares](image6.png)"
   ]
  },
  {
   "cell_type": "markdown",
   "id": "6d616312",
   "metadata": {},
   "source": [
    "### Producto Hadamard \n",
    "![Producto Hadamard](image7.png)\n",
    "### Producto externo\n",
    "![Producto externo](image8.png)"
   ]
  },
  {
   "cell_type": "code",
   "execution_count": 103,
   "id": "be79e318",
   "metadata": {},
   "outputs": [
    {
     "data": {
      "text/plain": [
       "array([ 4, 10, 18])"
      ]
     },
     "execution_count": 103,
     "metadata": {},
     "output_type": "execute_result"
    }
   ],
   "source": [
    "## producto de vectores Hadamard\n",
    "a = np.array([1, 2, 3])\n",
    "b = np.array([4, 5, 6])\n",
    "a * b"
   ]
  },
  {
   "cell_type": "code",
   "execution_count": 104,
   "id": "6c73a83a",
   "metadata": {},
   "outputs": [
    {
     "data": {
      "text/plain": [
       "array([[ 4,  5,  6],\n",
       "       [ 8, 10, 12],\n",
       "       [12, 15, 18]])"
      ]
     },
     "execution_count": 104,
     "metadata": {},
     "output_type": "execute_result"
    }
   ],
   "source": [
    "# producto de vectores externo\n",
    "a = np.array([1, 2, 3])\n",
    "b = np.array([4, 5, 6])\n",
    "np.outer(a, b)\n"
   ]
  },
  {
   "cell_type": "markdown",
   "id": "8d6e6769",
   "metadata": {},
   "source": [
    "### Descomposición ortogonal de vectores\n",
    "\n",
    "Descomponer se usa para comprimir o revelar informacion oculta\n",
    "\n",
    "El numero 11.22\n",
    "Lo podemos descomponer en 11 entero y .22 es la parte decimal\n",
    "\n",
    "Descomponer en sus factores\n",
    "42 se puede descomponer en 6x7 \n",
    "\n",
    "Descomponer es romper un numero en sus elementos base\n",
    "![Descomposición ortogonal de vectores](image11.png)\n",
    "\n",
    "\n",
    "#### Proyeccion Ortogonal\n",
    "\n",
    "Para calcular la proyeccion ortogonal de un vector sobre otro es la proyeccion del vector b en a, tal que Ba forma un angulo de 90°, b-Ba  es ortogal a Ba , su producto punto es cero\n",
    "![Proyeccion ortogonal](image12.png)\n",
    "\n",
    "El producto punto entre dos vectores ortogonales siempre va a ser 0. De esta forma se puede calcular la proyeccion ortogonal de un vector sobre otro. El factor B se calcula, para proyectar mi vector b en a y encontrar el punto donde cae esa proyeccion que es el escalar B:\n",
    "![Proyeccion ortogonal calculo de B](image13.png)\n",
    "\n",
    "\n",
    "Tenemos dos vectores el vector objetivo t y el vector de referencia r, el objetivo es descomponer el objetivo t en dos vectores tales que la suma de estos dos vectores sea igual al vector objetivo t, uno de estos vectores debe ser paralelo al vector de referencia y otro debe ser ortogonal al vector de referencia.\n",
    "\n",
    "![Descomposición ortogonal de vectores](image14.png)\n",
    "\n",
    "Que significa ser paralelo al vector r?\n",
    "Es basicamente cualquier vector que apunte en la misma direccion que el vector r, es decir el vector e escalado.\n",
    "\n",
    "Para calcular el vector paralelo a r seria la siguiente formula:\n",
    "![Vector paralelo a r](image15.png)\n",
    "\n",
    "Para calular el vector perpendicualar a r  seria la siguiente formula:\n",
    "![Vector perpendicualar a r](image16.png)"
   ]
  },
  {
   "cell_type": "code",
   "execution_count": 105,
   "id": "c7a96469",
   "metadata": {},
   "outputs": [
    {
     "data": {
      "text/plain": [
       "array([ 0.42614159, -0.18709114])"
      ]
     },
     "execution_count": 105,
     "metadata": {},
     "output_type": "execute_result"
    }
   ],
   "source": [
    "## Ortogonalidad en python\n",
    "t = np.random.randn(2)\n",
    "t"
   ]
  },
  {
   "cell_type": "code",
   "execution_count": 106,
   "id": "2af9692b",
   "metadata": {},
   "outputs": [
    {
     "data": {
      "text/plain": [
       "array([0.57393886, 0.98939699])"
      ]
     },
     "execution_count": 106,
     "metadata": {},
     "output_type": "execute_result"
    }
   ],
   "source": [
    "# El vector de referencia es cualquier vector\n",
    "r = np.random.rand(2)\n",
    "r\n"
   ]
  },
  {
   "cell_type": "code",
   "execution_count": 107,
   "id": "15e42026",
   "metadata": {},
   "outputs": [
    {
     "name": "stdout",
     "output_type": "stream",
     "text": [
      "[0.02608948 0.04497491]\n",
      "[ 0.40005211 -0.23206605]\n"
     ]
    }
   ],
   "source": [
    "# el vector paralelo a r\n",
    "t_paralelo = r * (np.dot(t,r) / np.dot(r,r))\n",
    "t_perpendicular = t - t_paralelo\n",
    "print(t_paralelo)\n",
    "print(t_perpendicular)"
   ]
  },
  {
   "cell_type": "code",
   "execution_count": 108,
   "id": "2030d9dd",
   "metadata": {},
   "outputs": [
    {
     "name": "stdout",
     "output_type": "stream",
     "text": [
      "[ 0.42614159 -0.18709114]\n",
      "[ 0.42614159 -0.18709114]\n"
     ]
    }
   ],
   "source": [
    "### La suma de t_paralelo y t_perpendicar es igual a t\n",
    "t_suma = t_paralelo + t_perpendicular\n",
    "print(t_suma)\n",
    "print(t)"
   ]
  },
  {
   "cell_type": "code",
   "execution_count": 109,
   "id": "a5c1a90a",
   "metadata": {},
   "outputs": [
    {
     "name": "stdout",
     "output_type": "stream",
     "text": [
      "0.0\n"
     ]
    }
   ],
   "source": [
    "## comprobar que hay ortoganilidad entre t_perpendicular y t_paralelo\n",
    "print(np.dot(t_perpendicular, t_paralelo))\n"
   ]
  },
  {
   "cell_type": "code",
   "execution_count": 110,
   "id": "979926d6",
   "metadata": {},
   "outputs": [
    {
     "name": "stdout",
     "output_type": "stream",
     "text": [
      "2.7755575615628914e-17\n"
     ]
    }
   ],
   "source": [
    "## comprobar que hay ortoganilidad entre t_perpendicular y r\n",
    "print(np.dot(t_perpendicular, r))"
   ]
  },
  {
   "cell_type": "code",
   "execution_count": 111,
   "id": "d4ac67e1",
   "metadata": {},
   "outputs": [],
   "source": [
    "# Forma correcta para desempaquetar\n",
    "origen = ([0,0,0,0], [0,0,0,0])  # Tupla, no array"
   ]
  },
  {
   "cell_type": "code",
   "execution_count": 112,
   "id": "34372b08",
   "metadata": {},
   "outputs": [
    {
     "data": {
      "text/plain": [
       "array([[ 0.57393886,  0.98939699],\n",
       "       [ 0.42614159, -0.18709114],\n",
       "       [ 0.40005211, -0.23206605],\n",
       "       [ 0.02608948,  0.04497491]])"
      ]
     },
     "execution_count": 112,
     "metadata": {},
     "output_type": "execute_result"
    }
   ],
   "source": [
    "# VECTOR GENERAL VECTOR DE VECTORES\n",
    "V = np.array([r, t, t_perpendicular, t_paralelo])\n",
    "V"
   ]
  },
  {
   "cell_type": "code",
   "execution_count": 113,
   "id": "b025e500",
   "metadata": {},
   "outputs": [
    {
     "data": {
      "image/png": "[encoded data removed]",
      "text/plain": [
       "<Figure size 640x480 with 1 Axes>"
      ]
     },
     "metadata": {},
     "output_type": "display_data"
    }
   ],
   "source": [
    "plt.quiver(*origen, V[:,0], V[:,1], color=['b','r','g','m'], units=\"xy\", scale=1)\n",
    "plt.xlim(-2,2)\n",
    "plt.ylim(-2,2)\n",
    "plt.grid()\n",
    "plt.show()"
   ]
  },
  {
   "cell_type": "code",
   "execution_count": 114,
   "id": "649ca8a8",
   "metadata": {},
   "outputs": [
    {
     "data": {
      "image/png": "[encoded data removed]",
      "text/plain": [
       "<Figure size 640x480 with 1 Axes>"
      ]
     },
     "metadata": {},
     "output_type": "display_data"
    }
   ],
   "source": [
    "plt.quiver(*origen, V[:,0], V[:,1], color=['b','r','g','m'], units=\"xy\", scale=1)\n",
    "plt.xlim(-2,2)\n",
    "plt.ylim(-2,2)\n",
    "plt.grid()\n",
    "plt.show()"
   ]
  },
  {
   "cell_type": "code",
   "execution_count": 115,
   "id": "8b01ed6f",
   "metadata": {},
   "outputs": [
    {
     "data": {
      "image/png": "[encoded data removed]",
      "text/plain": [
       "<Figure size 640x480 with 1 Axes>"
      ]
     },
     "metadata": {},
     "output_type": "display_data"
    }
   ],
   "source": [
    "plt.quiver(*origen, V[:,0], V[:,1], color=['b','r','g','m'], units=\"xy\", scale=1)\n",
    "plt.xlim(-2,2)\n",
    "plt.ylim(-2,2)\n",
    "plt.grid()\n",
    "plt.show()"
   ]
  },
  {
   "cell_type": "code",
   "execution_count": 116,
   "id": "3351dc64",
   "metadata": {},
   "outputs": [
    {
     "data": {
      "image/png": "[encoded data removed]",
      "text/plain": [
       "<Figure size 640x480 with 1 Axes>"
      ]
     },
     "metadata": {},
     "output_type": "display_data"
    }
   ],
   "source": [
    "plt.quiver(*origen, V[:,0], V[:,1], color=['b','r','g','m'], units=\"xy\", scale=1)\n",
    "plt.xlim(-2,2)\n",
    "plt.ylim(-2,2)\n",
    "plt.grid()\n",
    "plt.show()"
   ]
  },
  {
   "cell_type": "code",
   "execution_count": 117,
   "id": "d6f434ad",
   "metadata": {},
   "outputs": [
    {
     "data": {
      "image/png": "[encoded data removed]",
      "text/plain": [
       "<Figure size 640x480 with 1 Axes>"
      ]
     },
     "metadata": {},
     "output_type": "display_data"
    }
   ],
   "source": [
    "plt.quiver(*origen, V[:,0], V[:,1], color=['b','r','g','m'], units=\"xy\", scale=1)\n",
    "plt.xlim(-2,2)\n",
    "plt.ylim(-2,2)\n",
    "plt.grid()\n",
    "plt.show()"
   ]
  },
  {
   "cell_type": "code",
   "execution_count": 118,
   "id": "4fa35e0d",
   "metadata": {},
   "outputs": [
    {
     "data": {
      "image/png": "[encoded data removed]",
      "text/plain": [
       "<Figure size 640x480 with 1 Axes>"
      ]
     },
     "metadata": {},
     "output_type": "display_data"
    }
   ],
   "source": [
    "plt.quiver(*origen, V[:,0], V[:,1], color=['b','r','g','m'], units=\"xy\", scale=1)\n",
    "plt.xlim(-2,2)\n",
    "plt.ylim(-2,2)\n",
    "plt.grid()\n",
    "plt.show()"
   ]
  },
  {
   "cell_type": "code",
   "execution_count": 119,
   "id": "3433ca67",
   "metadata": {},
   "outputs": [
    {
     "data": {
      "image/png": "[encoded data removed]",
      "text/plain": [
       "<Figure size 640x480 with 1 Axes>"
      ]
     },
     "metadata": {},
     "output_type": "display_data"
    }
   ],
   "source": [
    "plt.quiver(*origen, V[:,0], V[:,1], color=['b','r','g','m'], units=\"xy\", scale=1)\n",
    "plt.xlim(-2,2)\n",
    "plt.ylim(-2,2)\n",
    "plt.grid()\n",
    "plt.show()"
   ]
  },
  {
   "cell_type": "code",
   "execution_count": 120,
   "id": "5220979e",
   "metadata": {},
   "outputs": [
    {
     "data": {
      "image/png": "[encoded data removed]",
      "text/plain": [
       "<Figure size 640x480 with 1 Axes>"
      ]
     },
     "metadata": {},
     "output_type": "display_data"
    }
   ],
   "source": [
    "plt.quiver(*origen, V[:,0], V[:,1], color=['b','r','g','m'], units=\"xy\", scale=1)\n",
    "plt.xlim(-2,2)\n",
    "plt.ylim(-2,2)\n",
    "plt.grid()\n",
    "plt.show()"
   ]
  },
  {
   "cell_type": "code",
   "execution_count": 121,
   "id": "5378eedf",
   "metadata": {},
   "outputs": [
    {
     "data": {
      "image/png": "[encoded data removed]",
      "text/plain": [
       "<Figure size 640x480 with 1 Axes>"
      ]
     },
     "metadata": {},
     "output_type": "display_data"
    }
   ],
   "source": [
    "plt.quiver(*origen, V[:,0], V[:,1], color=['b','r','g','m'], units=\"xy\", scale=1)\n",
    "plt.xlim(-2,2)\n",
    "plt.ylim(-2,2)\n",
    "plt.grid()\n",
    "plt.show()"
   ]
  }
 ],
 "metadata": {
  "kernelspec": {
   "display_name": "algebra_lineal",
   "language": "python",
   "name": "python3"
  },
  "language_info": {
   "codemirror_mode": {
    "name": "ipython",
    "version": 3
   },
   "file_extension": ".py",
   "mimetype": "text/x-python",
   "name": "python",
   "nbconvert_exporter": "python",
   "pygments_lexer": "ipython3",
   "version": "3.11.13"
  }
 },
 "nbformat": 4,
 "nbformat_minor": 5
}
