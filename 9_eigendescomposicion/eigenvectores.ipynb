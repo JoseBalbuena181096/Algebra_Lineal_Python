{
 "cells": [
  {
   "cell_type": "code",
   "execution_count": 1,
   "id": "d4b22658",
   "metadata": {},
   "outputs": [],
   "source": [
    "import numpy as np"
   ]
  },
  {
   "cell_type": "code",
   "execution_count": 2,
   "id": "e3125703",
   "metadata": {},
   "outputs": [
    {
     "data": {
      "text/plain": [
       "array([[1, 2],\n",
       "       [3, 4]])"
      ]
     },
     "execution_count": 2,
     "metadata": {},
     "output_type": "execute_result"
    }
   ],
   "source": [
    "A = np.array([[1, 2], [3, 4]])\n",
    "A"
   ]
  },
  {
   "cell_type": "code",
   "execution_count": 3,
   "id": "b82798cb",
   "metadata": {},
   "outputs": [
    {
     "data": {
      "text/plain": [
       "(array([-0.37228132,  5.37228132]),\n",
       " array([[-0.82456484, -0.41597356],\n",
       "        [ 0.56576746, -0.90937671]]))"
      ]
     },
     "execution_count": 3,
     "metadata": {},
     "output_type": "execute_result"
    }
   ],
   "source": [
    "# obtener los eigenvectores de A, eigenvalores\n",
    "eigenvalores, eigenvectores = np.linalg.eig(A)\n",
    "eigenvalores, eigenvectores"
   ]
  },
  {
   "cell_type": "markdown",
   "id": "7ea63375",
   "metadata": {},
   "source": [
    "Se nesesitan que los eigenvectores y eigenvalores sean de rango completo? Que sus columnas no sean linealmetes dependietes, que su deteminate es 0, si se puede\n"
   ]
  },
  {
   "cell_type": "code",
   "execution_count": 4,
   "id": "dd90aa58",
   "metadata": {},
   "outputs": [
    {
     "data": {
      "text/plain": [
       "array([[1, 4, 7],\n",
       "       [2, 5, 8],\n",
       "       [3, 6, 9]])"
      ]
     },
     "execution_count": 4,
     "metadata": {},
     "output_type": "execute_result"
    }
   ],
   "source": [
    "A = np.array([[1, 4, 7], [2, 5, 8], [3, 6, 9]])\n",
    "A"
   ]
  },
  {
   "cell_type": "code",
   "execution_count": 6,
   "id": "b018bb7b",
   "metadata": {},
   "outputs": [
    {
     "data": {
      "text/plain": [
       "np.float64(0.0)"
      ]
     },
     "execution_count": 6,
     "metadata": {},
     "output_type": "execute_result"
    }
   ],
   "source": [
    "np.linalg.det(A)"
   ]
  },
  {
   "cell_type": "code",
   "execution_count": 7,
   "id": "b317f82d",
   "metadata": {},
   "outputs": [
    {
     "data": {
      "text/plain": [
       "(array([ 1.61168440e+01, -1.11684397e+00, -2.95854556e-16]),\n",
       " array([[-0.46454727, -0.88290596,  0.40824829],\n",
       "        [-0.57079553, -0.23952042, -0.81649658],\n",
       "        [-0.67704379,  0.40386512,  0.40824829]]))"
      ]
     },
     "execution_count": 7,
     "metadata": {},
     "output_type": "execute_result"
    }
   ],
   "source": [
    "# El determinate de esta matriz singular, quiere decir que almenos un eigenvalor sera cero\n",
    "eigenvalores, eigenvectores = np.linalg.eig(A)\n",
    "eigenvalores, eigenvectores"
   ]
  }
 ],
 "metadata": {
  "kernelspec": {
   "display_name": "algebra_lineal",
   "language": "python",
   "name": "python3"
  },
  "language_info": {
   "codemirror_mode": {
    "name": "ipython",
    "version": 3
   },
   "file_extension": ".py",
   "mimetype": "text/x-python",
   "name": "python",
   "nbconvert_exporter": "python",
   "pygments_lexer": "ipython3",
   "version": "3.11.13"
  }
 },
 "nbformat": 4,
 "nbformat_minor": 5
}
