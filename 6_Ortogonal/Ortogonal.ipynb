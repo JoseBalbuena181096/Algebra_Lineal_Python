{
 "cells": [
  {
   "cell_type": "markdown",
   "id": "fcadf9fd",
   "metadata": {},
   "source": [
    "### Matriz ortogonal\n",
    "La matriz ortogonal es aquella que tiene como columnas vectores ortogonales unitarios. La matriz ortogonal tiene la propiedad que si la multiplico por su transpuesta me da la matriz identidad.\n",
    "\n",
    "![Matriz ortogonal](image.png)\n",
    "\n",
    "A cualquier matriz A le puedo obter su matriz ortogonal. \n",
    "Es un proceso largo y tedioso.\n",
    "\n",
    "Que significa matriz ortogonal?\n",
    "Todos sus vectores son ortogonales entre sí.\n",
    "El largo de cada columna o magnitud es uno.\n",
    "\n",
    "La palabra correcta para describirlas es ortonormal.\n",
    "Orto - Todos sus vectores son ortogonal entre si\n",
    "Normal - Magnitud uno de cada vector\n",
    "\n",
    "Ortonormal = Ortogonal\n",
    "\n",
    "### Proyecciones Ortogonales\n",
    "\n",
    "Proyectar el vector b en a. El punto mas cercano de \"a\" a la cabeza de b. La proyeccion de b en a es una version escalar de a (Escalar * a). El escalar que multiplica b es Betha (B). El punto en a, mas cercano a a es aquel que se forma entre a y un angulo recto ortogonal a la cabeza de b. \n",
    "\n",
    "![Proyeccion ortogonal](image1.png)\n",
    "![Proyeccion ortogonal](image2.png)\n",
    "![Proyeccion ortogonal](image3.png)\n",
    "\n",
    "### Ejercicio de proyeccion ortogonal\n",
    "![Proyeccion ortogonal](image4.jpg)\n",
    "\n",
    "### Gram-Schmidt\n",
    "\n",
    "### Descomposicion QR\n"
   ]
  },
  {
   "cell_type": "code",
   "execution_count": 1,
   "id": "34b66c1f",
   "metadata": {},
   "outputs": [
    {
     "data": {
      "text/plain": [
       "array([[-0.72942771, -0.6943033 , -0.17313692,  0.21588313, -0.81852958,\n",
       "         0.58208719],\n",
       "       [-0.68525868,  0.73751303,  0.11911351,  0.41144219,  0.80167332,\n",
       "         0.56946678],\n",
       "       [ 0.10438678,  1.70910039,  0.85252947, -0.10599976,  1.35581913,\n",
       "        -0.52731146],\n",
       "       [-1.26062022,  1.80665987,  0.05196096,  1.03138988,  0.245242  ,\n",
       "        -0.33601509],\n",
       "       [-0.17407451,  0.15247183,  0.57049863,  1.79415792,  0.6880444 ,\n",
       "         0.16879581],\n",
       "       [-0.99585679,  0.88955052, -0.13021133, -0.97901478,  1.91447948,\n",
       "        -0.7242369 ]])"
      ]
     },
     "execution_count": 1,
     "metadata": {},
     "output_type": "execute_result"
    }
   ],
   "source": [
    "import numpy as np\n",
    "\n",
    "A = np.random.randn(6,6)\n",
    "A"
   ]
  },
  {
   "cell_type": "code",
   "execution_count": 2,
   "id": "a024f92a",
   "metadata": {},
   "outputs": [
    {
     "name": "stdout",
     "output_type": "stream",
     "text": [
      "[[-0.38318097  0.55320591 -0.37914132  0.27339224  0.57193444  0.03918029]\n",
      " [-0.35997821 -0.07157264 -0.11459886 -0.01680115 -0.17784133 -0.90567672]\n",
      " [ 0.05483618 -0.76403301 -0.36181965  0.40808927  0.34014138  0.01000421]\n",
      " [-0.66222556 -0.32308191  0.22600454 -0.53846421  0.26104828  0.21887764]\n",
      " [-0.09144434 -0.00334309 -0.79480997 -0.33853295 -0.43882708  0.22963039]\n",
      " [-0.52314076 -0.02647706  0.1714776   0.59488594 -0.51463763  0.27834683]]\n",
      "[[ 1.90361153 -1.58144346  0.05175406 -0.57156095 -1.12745759  0.12900409]\n",
      " [ 0.         -2.3504491  -0.77091356 -0.14233288 -1.67830709  0.81131096]\n",
      " [ 0.          0.         -0.72049174 -1.45144314 -0.43524286 -0.42945383]\n",
      " [ 0.          0.          0.         -1.73629953  1.08996376 -0.37266892]\n",
      " [ 0.          0.          0.          0.         -1.37272142  0.26321177]\n",
      " [ 0.          0.          0.          0.          0.         -0.73459639]]\n"
     ]
    }
   ],
   "source": [
    "Q,R = np.linalg.qr(A)\n",
    "print(Q)\n",
    "print(R)"
   ]
  },
  {
   "cell_type": "code",
   "execution_count": 3,
   "id": "94cbfe94",
   "metadata": {},
   "outputs": [
    {
     "data": {
      "text/plain": [
       "array([[ 1,  0, -1],\n",
       "       [ 0,  1,  0],\n",
       "       [ 1,  1,  0],\n",
       "       [ 0,  1,  1]])"
      ]
     },
     "execution_count": 3,
     "metadata": {},
     "output_type": "execute_result"
    }
   ],
   "source": [
    "A = np.array([[1,0,-1],[0,1,0],[1,1,0],[0, 1, 1]])\n",
    "A"
   ]
  },
  {
   "cell_type": "code",
   "execution_count": 4,
   "id": "4cdc7348",
   "metadata": {},
   "outputs": [
    {
     "name": "stdout",
     "output_type": "stream",
     "text": [
      "[[-0.70710678  0.31622777  0.25819889]\n",
      " [-0.         -0.63245553  0.77459667]\n",
      " [-0.70710678 -0.31622777 -0.25819889]\n",
      " [-0.         -0.63245553 -0.51639778]]\n",
      "[[-1.41421356 -0.70710678  0.70710678]\n",
      " [ 0.         -1.58113883 -0.9486833 ]\n",
      " [ 0.          0.         -0.77459667]]\n"
     ]
    }
   ],
   "source": [
    "Q, R = np.linalg.qr(A)\n",
    "print(Q)\n",
    "print(R)"
   ]
  },
  {
   "cell_type": "markdown",
   "id": "c99eed69",
   "metadata": {},
   "source": [
    "### Aprendimos que:\n",
    "-   Una matriz ortogonal (ortonormal) tiene columnas que son ortogonales con norma = 1\n",
    "-   Las matrices ortogonales son importantes para la descomposicion QR\n",
    "-   Puedes transformar una matriz en una matriz ortogonal via Gram-Schmidt, que involuncra aplicar descomposicion vectorial ortogonal\n",
    "-   La descomposicion QR es el resultado de aplicar Gram-Schmidt a una matriz\n",
    "\n"
   ]
  }
 ],
 "metadata": {
  "kernelspec": {
   "display_name": "algebra_lineal",
   "language": "python",
   "name": "python3"
  },
  "language_info": {
   "codemirror_mode": {
    "name": "ipython",
    "version": 3
   },
   "file_extension": ".py",
   "mimetype": "text/x-python",
   "name": "python",
   "nbconvert_exporter": "python",
   "pygments_lexer": "ipython3",
   "version": "3.11.13"
  }
 },
 "nbformat": 4,
 "nbformat_minor": 5
}
