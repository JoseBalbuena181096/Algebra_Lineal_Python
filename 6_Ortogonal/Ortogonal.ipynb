{
 "cells": [
  {
   "cell_type": "markdown",
   "id": "fcadf9fd",
   "metadata": {},
   "source": [
    "### Matriz ortogonal\n",
    "La matriz ortogonal es aquella que tiene como columnas vectores ortogonales unitarios. La matriz ortogonal tiene la propiedad que si la multiplico por su transpuesta me da la matriz identidad.\n",
    "\n",
    "![Matriz ortogonal](image.png)\n",
    "\n",
    "A cualquier matriz A le puedo obter su matriz ortogonal. \n",
    "Es un proceso largo y tedioso.\n",
    "\n",
    "Que significa matriz ortogonal?\n",
    "Todos sus vectores son ortogonales entre sí.\n",
    "El largo de cada columna o magnitud es uno.\n",
    "\n",
    "La palabra correcta para describirlas es ortonormal.\n",
    "Orto - Todos sus vectores son ortogonal entre si\n",
    "Normal - Magnitud uno de cada vector\n",
    "\n",
    "Ortonormal = Ortogonal\n",
    "\n",
    "### Proyecciones Ortogonales\n",
    "\n",
    "Proyectar el vector b en a. El punto mas cercano de \"a\" a la cabeza de b. La proyeccion de b en a es una version escalar de a (Escalar * a). El escalar que multiplica b es Betha (B). El punto en a, mas cercano a a es aquel que se forma entre a y un angulo recto ortogonal a la cabeza de b. \n",
    "\n",
    "![Proyeccion ortogonal](image1.png)\n",
    "![Proyeccion ortogonal](image2.png)\n",
    "![Proyeccion ortogonal](image3.png)\n",
    "\n",
    "### Ejercicio de proyeccion ortogonal\n",
    "![Proyeccion ortogonal](image4.jpg)\n",
    "\n",
    "\n",
    "\n",
    "\n",
    "\n"
   ]
  }
 ],
 "metadata": {
  "language_info": {
   "name": "python"
  }
 },
 "nbformat": 4,
 "nbformat_minor": 5
}
