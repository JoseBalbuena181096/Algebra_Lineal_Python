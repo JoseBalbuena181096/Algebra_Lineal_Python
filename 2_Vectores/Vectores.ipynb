{
 "cells": [
  {
   "cell_type": "markdown",
   "id": "bb20016d",
   "metadata": {},
   "source": [
    "### Vectores unitarios\n",
    "\n",
    "Las coordenas son escalares que estiran o comprimen vectores\n",
    "![Escalares como coordenadas](image.png)\n",
    "\n",
    "En el sistema de coordenadas tenemos dos vectores i vector unitario i y j vector unitario en y, entonces estas coordenas es el resultado de sumar dos vectores escalados los vectores unitarios i y j, 3(i) + (-2)j \n",
    "\n",
    "![Suma de los 2 vectores unitarios escalados](image2.png)\n",
    "\n",
    "Cuando estos dos vectores estan juntos, se llaman la base de un sistema de coordenadas, es decir i y j son la base del sistema de coordenadas en 2D. Cuando tu piensas en las coordenadas como escalares los vectores base son lo que esos escalares estiran o comprimen (escalan).\n",
    "![Escalamiento de los vectores unitario](image3.png)\n",
    "\n",
    "Podemos escojer otros vectores unitarios (base), por ejemplo v y w, y formariamos otro espacio vectorial de rR2,\n",
    "lo que lleva a la siguiente pregunta Cuales vectores 2 dimensionales puedes alcanzar alterando la seleccion de los escalares?\n",
    "Todos los vectores en R2 pueden ser alcanzados.\n",
    "![Todos los vectores en R2 pueden ser alcanzados](image4.png)\n",
    "\n",
    "Cuando describimos vectores de manera numerica, siempre depende implicitamente de la base que estemos usando.\n",
    "\n",
    "### Combinacion lineal\n",
    "Cualquier vez que sumas estos dos vectores base escalados, se realiza una combinacion lineal.\n",
    "![Combinacion lineal](image5.png)\n",
    "\n",
    "Por que es lineal, por que si fijamos uno de estos vectores y movemos el otro libremente, los vectores resultantes de la combinacion lineal formara una linea.\n",
    "![Generar una linea con la combinacion lineal de dos vectores uno fijo](image6.png)\n",
    "\n",
    "Para cuando los dos vectores se pueden mover libremente, las combinaciones lineales para la mayoria de vectores base, se pueden alcanzar todos los vectores en r2 \n",
    "![Combinacion lineal de dos vectores libres](image7.png)\n",
    "\n",
    "Tenemos un caso en particular donde los dos vectores base van alinearse juntos, y la punta del vector resultante esta limitada a esta linea pasando por el origen.\n",
    "![Combinacion lineal de dos vectores alineados](image8.png)\n",
    "\n",
    "Tambien ambos vectores son cero, lo que te encierra en el origen.\n",
    "\n",
    "### SPAN (Alcance)\n",
    "El span de 2 vectores es el set de todos los posibles vectores que puedes alcanzat con una combinacion lineal de ese par de vectores dados.\n",
    "![Span de 2 vectores](image9.png)\n",
    "\n",
    "Cuando los vectores se alinean, el span es una linea.\n",
    "![Span de 2 vectores alineados](image10.png)\n",
    "\n",
    "Cuales son todos los posibles vectores que puedes alcanzar usando estas 2 operaciones fundamentales (suma de vectores y multiplicacion por escalares)?\n",
    "\n",
    "En vectores alineados son todos los vectores que se pueden formar con una combinacion lineal de los dos vectores, contenidos en una linea, son infinitos en muchos casos.\n",
    "\n",
    "En vectores libres, son todos los vectores que se pueden formar con una combinacion lineal de los dos vectores, contenidos en un plano, son infinitos en muchos casos.\n",
    "\n",
    "Para su representacion debido a ser muchos en  el plano sera un punto solamenta, al tratar con muchos vectores, el punto resultante sera un vector.\n",
    "\n",
    "Vectores cuya punta se sienta en una sola linea.\n",
    "![Vectores cuya punta se sienta en una sola linea](image11.png)\n",
    "\n",
    "Vectores bidemecionales en el plano al mismo tiempo.\n",
    "![Vectores bidemecionales en el plano al mismo tiempo](image12.png)\n",
    "\n",
    "Engeneral si solo se trabaja con un vector, piensa en el como una flecha y si es un conjunto de vectores pienza en ellos como  puntos.\n",
    "\n",
    "El span de dos vectores en 3 dimenciones que no apuntan en la misma direccion, son todas las posibles combinaciones lineales de esos 2 vectores, significa que el span de esos vectres son todos los puntos o vectores en R3. Se cambian los escalares que definen la combinacion lineal,sumando los vectores escalados y siguinedo la punta del vector resultante. Esa punta va a trazar una especie de hoja que corta el origen del espacio tridimencional, esta hoja plana es el span de los dos vectores, el set de todos los vectores posibles cuya punta se sienta en la hoja plana \n",
    "![Span de 2 vectores en 3 dimenciones](image13.png)\n",
    "\n",
    "Que sucede si agregamos un tercer vector y consideramos el span de todos esos 3 vectores?\n",
    "\n",
    "Nos va a dar una combinacion lineal de los 3 vectores, y el span de los 3 vectores es todo el espacio tridimencional.\n",
    "\n",
    "Si el tercer vector esta sentado en el span de los primeros dos, el span no cambia atrapado en la misma hoja, agrar un vector que ya es una combiancion de estos vectores no da acceso a un nuveo vector.\n",
    "![Span de 3 vectores, pero uno linealmente dependiente](image14.png)\n",
    "\n",
    "Si este vector es escogido aleatoriamente, lo mas probable es que no apunte en direccion de los otros dos porlo que nos da acceso a una nueva serie de vectores. Porlo que el plnano gnerado por los dos primeros se mueve por todo el espacio en direccion que el tercer vector indica.\n",
    "![Span de 3 vectores linealmente independientes](image15.png)\n",
    "\n",
    "Cuando tenermos tres vectores pero podemos quitar uno sin reducir el spa, podemos decir que el vector que se quita es linealmente dependientes. Es decir ese vector que podemos quitar puede ser expresado como una combinacion lineal de los otros dos vectores, ya que ese vector esta en el span de esos dos vectors.\n",
    "\n",
    "Por otro lado si cada vector si agrega una nueva dimencion al span, son vectores linealmete dependientes.\n",
    "\n",
    "\n",
    "\n",
    "\n",
    "\n",
    "\n",
    "\n"
   ]
  },
  {
   "cell_type": "markdown",
   "id": "d2b30191",
   "metadata": {},
   "source": [
    "### Que es un conjunto de vectores?\n",
    "\n",
    "Es un conjunto de vectores que se pueden sumar y multiplicar por escalares. Basicamente una coleccion de vectores.\n",
    "![Conjunto de vectores](image16.png)\n",
    "\n",
    "### Combinacion lineal ponderada.\n",
    "\n",
    "Es una manera de mezclar variables.\n",
    "<br>\n",
    "w = x1 V1 + x2 V2 + ... + xn Vn\n",
    "<br>\n",
    "Ejemplo \n",
    "tres escalares x1 = 1, x2 = 2, x3 = -3\n",
    "<br>\n",
    "tres vectores V1 = (1, 2, 3), V2 = (4, 5, 6), V3 = (7, 8, 9)\n",
    "<br>\n",
    "la combinacion lineal es:\n",
    "<br>\n",
    "w = 1(1, 2, 3) + 2(4, 5, 6) - 3(7, 8, 9)\n",
    "<br>\n",
    "w = (1, 2, 3) + (8, 10, 12) - (21, 24, 27)\n",
    "<br>\n",
    "w = (-12, -12, -12)\n",
    "<br>\n",
    "\n",
    "\n",
    "\n"
   ]
  },
  {
   "cell_type": "code",
   "execution_count": 3,
   "id": "7be3d99e",
   "metadata": {},
   "outputs": [
    {
     "data": {
      "text/plain": [
       "array([-12, -12, -12])"
      ]
     },
     "execution_count": 3,
     "metadata": {},
     "output_type": "execute_result"
    }
   ],
   "source": [
    "import numpy as np\n",
    "\n",
    "l1 = 1\n",
    "l2 = 2\n",
    "l3 = -3\n",
    "\n",
    "V1 = np.array([1, 2, 3])\n",
    "V2 = np.array([4, 5, 6]) \n",
    "V3 = np.array([7, 8, 9])\n",
    "\n",
    "W = l1*V1 + l2*V2 + l3*V3  \n",
    "W"
   ]
  },
  {
   "cell_type": "markdown",
   "id": "849f016b",
   "metadata": {},
   "source": [
    "### La regresion lineal\n",
    "Es un eje de combinacion lineal\n",
    "![Regresion lineal](image17.png)\n",
    "![Regresion lineal como combinacion lineal](image18.png)\n",
    "![Redes neuronales como combinacion lineal](image19.png)"
   ]
  },
  {
   "cell_type": "code",
   "execution_count": null,
   "id": "b1a0e688",
   "metadata": {},
   "outputs": [],
   "source": []
  }
 ],
 "metadata": {
  "kernelspec": {
   "display_name": "algebra_lineal",
   "language": "python",
   "name": "python3"
  },
  "language_info": {
   "codemirror_mode": {
    "name": "ipython",
    "version": 3
   },
   "file_extension": ".py",
   "mimetype": "text/x-python",
   "name": "python",
   "nbconvert_exporter": "python",
   "pygments_lexer": "ipython3",
   "version": "3.11.13"
  }
 },
 "nbformat": 4,
 "nbformat_minor": 5
}
