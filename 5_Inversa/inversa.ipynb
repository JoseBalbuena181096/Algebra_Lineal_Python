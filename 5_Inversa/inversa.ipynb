{
 "cells": [
  {
   "cell_type": "markdown",
   "id": "cc0e669b",
   "metadata": {},
   "source": [
    "### Que son las matrices inversas y porque son inportantes?\n",
    "\n",
    "\n",
    "El principal problema a resolver son sistemas de ecuaciones lineales.\n",
    "![Sistema de ecuaciones lineales](image.png)\n",
    "\n",
    "En algebra lineal no es posible simplemente tomar la matriz y pasarla dividiendola.\n",
    "![Matriz inversa](image2.png)\n",
    "\n",
    "La alternativa son las matrices inversas. Buscamos una transformacion escalada por una matriz \"A\" que nos permita convertir el vector \"x\" en el vector \"v\".\n",
    "![Matriz inversa](image3.png)\n",
    "\n",
    "Tenemos los el siguiente sistema de ecuaciones que se veria de la siguiente forma.\n",
    "![Sistema de ecuaciones lineales](image4.png)\n",
    "\n",
    "Para saber si el sitema tiene solucion, debemos calcular el determinate de \"A\" si es cero, estamos aplastando a una dimension mas baja, lo mas probable es que no tenga solucion.\n",
    "\n",
    "Si el det(A) es diferente de 0, el sistema tiene solucion. Por lo que, solo un vector va acaer sobre el vector \"v\", y se encuentra con la transformacion inversa.\n",
    "![Sistema de ecuaciones lineales](image5.png)\n",
    "\n",
    "Ejemplo si la transformacion A es un giro 90 grados con sentido contrario a las agujas del reloj.\n",
    "![Matriz inversa](image6.png)\n",
    "\n",
    "La transformacion inversa es un giro de 90 grados en sentido de las agujas del reloj.\n",
    "![Matriz inversa](image7.png)\n",
    "\n",
    "\n",
    "El mismo caso si A es un corte a la derecha, A inversa es un corte a la izquierda.\n",
    "\n",
    "Es decir tenemos que si aplicamos la inversa de A, y luego la matriz A, el resultado es que quedamos como iniciamos.\n",
    "![Matriz inversa](image8.png)\n",
    "\n",
    "Una vez tenemos la inverza podemos multiplicar por la matriz A, y obtendremos la identidad.\n",
    "![Matriz inversa](image9.png)\n",
    "\n",
    "La matriz identidad no cambia en nada.\n",
    "![Matriz inversa](image10.png)\n",
    "\n",
    "Para un sistema de ecuaciones de 2x2, debemos tener generalmete una solucion unica para estas dos variables, \n",
    "por lo general donde el det(A) es diferente de 0, tenemos una solucion unica, que los vectores no sean linealmente dependientes.\n",
    "![Matriz inversa](image11.png)\n",
    "\n",
    "Cuando el determinante es 0 det(A) = 0, la matriz aplasta el espacio a una dimension mas pequenia. Porlo que no hay inverza.\n",
    "\n",
    "Cuando el determinate es 0, existe solucion, el vector \"v\" debe estar en la linea resultante, pero es muy poco probable que suceda.\n",
    "\n",
    "### Obtener la matriz Inversa\n",
    "Si tengo un sistema de ecuaciones podemos encontrar valores de variables si conocemos la matriz inversa y se multiplica por \"V\".\n",
    "![Matriz inversa](image12.png)\n",
    "\n",
    "Calcular la matriz inversa depende de calcular el determinante de la matriz. Mientras mas grande la matriz, mas dificil es computar el determinate.\n",
    "\n",
    "Para calcular una matriz de 2x2\n",
    "![Matriz inversa](image13.png)\n",
    "\n",
    "Tipos de \n",
    "![Matriz inversa](image14.png)\n",
    "\n",
    "Matriz pseudo-inverza\n",
    "![Matriz pseudo-inversa](image15.png)\n",
    "\n",
    "\n",
    "Matriz inversa: Garantiza que al multiplicar la matriz inversas por la original, va a darte la matriz identidad.\n",
    "Matriz pseudo-inversa: Garantiza que al multiplicar la matriz pseudo-inversa por la original, tal vez resulta en algo similar a la matriz de identidad.\n",
    "\n",
    "### Calcular matriz inverza\n",
    "![Matriz inversa](image16.png)\n",
    "![Matriz inversa](image17.png)\n",
    "![Matriz inversa](image18.png)\n",
    "\n",
    "\n",
    "\n",
    "\n",
    "\n",
    "\n",
    "\n",
    "\n",
    "\n",
    "\n",
    "\n",
    "\n"
   ]
  },
  {
   "cell_type": "code",
   "execution_count": 1,
   "id": "a9ad299b",
   "metadata": {},
   "outputs": [
    {
     "data": {
      "text/plain": [
       "array([[1, 4],\n",
       "       [4, 9]])"
      ]
     },
     "execution_count": 1,
     "metadata": {},
     "output_type": "execute_result"
    }
   ],
   "source": [
    "## Calcular inversa python\n",
    "import numpy as np\n",
    "\n",
    "A = np.array([[1,4],[4,9]])\n",
    "A"
   ]
  },
  {
   "cell_type": "code",
   "execution_count": 2,
   "id": "2916afbd",
   "metadata": {},
   "outputs": [
    {
     "data": {
      "text/plain": [
       "array([[-1.28571429,  0.57142857],\n",
       "       [ 0.57142857, -0.14285714]])"
      ]
     },
     "execution_count": 2,
     "metadata": {},
     "output_type": "execute_result"
    }
   ],
   "source": [
    "Ainv = np.linalg.inv(A)\n",
    "Ainv"
   ]
  },
  {
   "cell_type": "code",
   "execution_count": 3,
   "id": "6329729f",
   "metadata": {},
   "outputs": [
    {
     "data": {
      "text/plain": [
       "array([[1.00000000e+00, 0.00000000e+00],\n",
       "       [2.22044605e-16, 1.00000000e+00]])"
      ]
     },
     "execution_count": 3,
     "metadata": {},
     "output_type": "execute_result"
    }
   ],
   "source": [
    "## Obtenemos la matriz identidad\n",
    "A@Ainv"
   ]
  },
  {
   "cell_type": "markdown",
   "id": "60e0875a",
   "metadata": {},
   "source": [
    "![matriz_inversa](image19.png)\n",
    "\n",
    "La pseudo-inversa de Moore Penrose es una generalización de la inversa de una matriz cuadrada a matrices no cuadradas.\n",
    "La mayoria de matrices no son cuadradas ni de rango completo.\n",
    "![pseudo_inversa](image20.png)"
   ]
  },
  {
   "cell_type": "code",
   "execution_count": 4,
   "id": "ebef289c",
   "metadata": {},
   "outputs": [
    {
     "data": {
      "text/plain": [
       "array([[ 1,  4],\n",
       "       [ 3, 12]])"
      ]
     },
     "execution_count": 4,
     "metadata": {},
     "output_type": "execute_result"
    }
   ],
   "source": [
    "A = np.array([[1,4],[3,12]])\n",
    "A"
   ]
  },
  {
   "cell_type": "code",
   "execution_count": 5,
   "id": "5c62e45a",
   "metadata": {},
   "outputs": [
    {
     "data": {
      "text/plain": [
       "array([[0.00588235, 0.01764706],\n",
       "       [0.02352941, 0.07058824]])"
      ]
     },
     "execution_count": 5,
     "metadata": {},
     "output_type": "execute_result"
    }
   ],
   "source": [
    "Apinv = np.linalg.pinv(A)\n",
    "Apinv"
   ]
  },
  {
   "cell_type": "code",
   "execution_count": 6,
   "id": "f060e4d7",
   "metadata": {},
   "outputs": [
    {
     "data": {
      "text/plain": [
       "array([[0.1, 0.3],\n",
       "       [0.3, 0.9]])"
      ]
     },
     "execution_count": 6,
     "metadata": {},
     "output_type": "execute_result"
    }
   ],
   "source": [
    "A@Apinv"
   ]
  },
  {
   "cell_type": "markdown",
   "id": "a62160af",
   "metadata": {},
   "source": [
    "Para calcular la matriz inverza, se requieren muchas operaciones, los numeros decimales generan problemas en los calculos porque el usar decimales representa un metodo estocastico para resolver los problemas de precision. Si hay muchos decimales debemos truncar para almacenarlo todo. El calculo de las matrices psudo-inversarsas suelen ser numericamete inestables. Por eso se intenta calcular la inversa por el exceso de operaciones.\n",
    "\n",
    "1.  La inversa es una matriz que si multiplicamos por la matriz original, nos da la matriz identidad.\n",
    "2.  Cada matriz solo tiene una inversa de verdad.\n",
    "3.  Si no escuadrada y de rango completo, debemos usar la psudo-inversa de Moore Penrose.\n",
    "4.  Solo una inversa por matriz.\n",
    "5.  Calcular inversas es dificil hasta para la computadora.\n"
   ]
  }
 ],
 "metadata": {
  "kernelspec": {
   "display_name": "algebra_lineal",
   "language": "python",
   "name": "python3"
  },
  "language_info": {
   "codemirror_mode": {
    "name": "ipython",
    "version": 3
   },
   "file_extension": ".py",
   "mimetype": "text/x-python",
   "name": "python",
   "nbconvert_exporter": "python",
   "pygments_lexer": "ipython3",
   "version": "3.11.13"
  }
 },
 "nbformat": 4,
 "nbformat_minor": 5
}
